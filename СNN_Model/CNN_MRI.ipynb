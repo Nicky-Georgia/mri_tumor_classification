{
 "cells": [
  {
   "cell_type": "markdown",
   "metadata": {},
   "source": [
    "## Data uploading"
   ]
  },
  {
   "cell_type": "code",
   "execution_count": 1,
   "metadata": {},
   "outputs": [],
   "source": [
    "%load_ext pycodestyle_magic\n",
    "%pycodestyle_on"
   ]
  },
  {
   "cell_type": "code",
   "execution_count": 2,
   "metadata": {
    "ExecuteTime": {
     "end_time": "2024-01-14T19:49:17.123629Z",
     "start_time": "2024-01-14T19:49:17.123136Z"
    },
    "execution": {
     "iopub.execute_input": "2023-09-14T13:07:33.357043Z",
     "iopub.status.busy": "2023-09-14T13:07:33.356389Z",
     "iopub.status.idle": "2023-09-14T13:07:37.428979Z",
     "shell.execute_reply": "2023-09-14T13:07:37.427873Z",
     "shell.execute_reply.started": "2023-09-14T13:07:33.356995Z"
    },
    "trusted": true
   },
   "outputs": [
    {
     "name": "stderr",
     "output_type": "stream",
     "text": [
      "2024-04-14 17:47:56.319867: I tensorflow/core/util/port.cc:113] oneDNN custom operations are on. You may see slightly different numerical results due to floating-point round-off errors from different computation orders. To turn them off, set the environment variable `TF_ENABLE_ONEDNN_OPTS=0`.\n",
      "2024-04-14 17:47:56.345828: E external/local_xla/xla/stream_executor/cuda/cuda_dnn.cc:9261] Unable to register cuDNN factory: Attempting to register factory for plugin cuDNN when one has already been registered\n",
      "2024-04-14 17:47:56.345855: E external/local_xla/xla/stream_executor/cuda/cuda_fft.cc:607] Unable to register cuFFT factory: Attempting to register factory for plugin cuFFT when one has already been registered\n",
      "2024-04-14 17:47:56.346518: E external/local_xla/xla/stream_executor/cuda/cuda_blas.cc:1515] Unable to register cuBLAS factory: Attempting to register factory for plugin cuBLAS when one has already been registered\n",
      "2024-04-14 17:47:56.351090: I tensorflow/core/platform/cpu_feature_guard.cc:182] This TensorFlow binary is optimized to use available CPU instructions in performance-critical operations.\n",
      "To enable the following instructions: AVX2 AVX_VNNI FMA, in other operations, rebuild TensorFlow with the appropriate compiler flags.\n",
      "2024-04-14 17:47:56.894180: W tensorflow/compiler/tf2tensorrt/utils/py_utils.cc:38] TF-TRT Warning: Could not find TensorRT\n"
     ]
    }
   ],
   "source": [
    "import tensorflow as tf\n",
    "from tensorflow import keras\n",
    "from tensorflow.keras.models import Sequential\n",
    "from tensorflow.keras.layers import (Conv2D, MaxPooling2D, Flatten,\n",
    "                                     Activation, Dense, Dropout,\n",
    "                                     BatchNormalization)\n",
    "from tensorflow.keras.preprocessing.image import ImageDataGenerator\n",
    "from tensorflow.keras.optimizers import Adam, Adamax\n",
    "from tensorflow.keras import regularizers\n",
    "import os\n",
    "import shutil\n",
    "import itertools\n",
    "import pathlib\n",
    "from PIL import Image\n",
    "import cv2\n",
    "import matplotlib.pyplot as plt\n",
    "import numpy as np\n",
    "import pandas as pd\n",
    "import seaborn as sns\n",
    "from sklearn.model_selection import train_test_split\n",
    "from sklearn.metrics import confusion_matrix, classification_report"
   ]
  },
  {
   "cell_type": "code",
   "execution_count": 3,
   "metadata": {
    "ExecuteTime": {
     "end_time": "2024-01-14T19:49:24.819977Z",
     "start_time": "2024-01-14T19:49:24.762828Z"
    },
    "collapsed": false
   },
   "outputs": [
    {
     "data": {
      "text/html": [
       "<div>\n",
       "<style scoped>\n",
       "    .dataframe tbody tr th:only-of-type {\n",
       "        vertical-align: middle;\n",
       "    }\n",
       "\n",
       "    .dataframe tbody tr th {\n",
       "        vertical-align: top;\n",
       "    }\n",
       "\n",
       "    .dataframe thead th {\n",
       "        text-align: right;\n",
       "    }\n",
       "</style>\n",
       "<table border=\"1\" class=\"dataframe\">\n",
       "  <thead>\n",
       "    <tr style=\"text-align: right;\">\n",
       "      <th></th>\n",
       "      <th>filepaths</th>\n",
       "      <th>label</th>\n",
       "    </tr>\n",
       "  </thead>\n",
       "  <tbody>\n",
       "    <tr>\n",
       "      <th>0</th>\n",
       "      <td>../data/Training/pituitary/Tr-pi_0634.jpg</td>\n",
       "      <td>pituitary</td>\n",
       "    </tr>\n",
       "    <tr>\n",
       "      <th>1</th>\n",
       "      <td>../data/Training/pituitary/Tr-pi_1202.jpg</td>\n",
       "      <td>pituitary</td>\n",
       "    </tr>\n",
       "    <tr>\n",
       "      <th>2</th>\n",
       "      <td>../data/Training/pituitary/Tr-pi_1120.jpg</td>\n",
       "      <td>pituitary</td>\n",
       "    </tr>\n",
       "    <tr>\n",
       "      <th>3</th>\n",
       "      <td>../data/Training/pituitary/Tr-pi_0367.jpg</td>\n",
       "      <td>pituitary</td>\n",
       "    </tr>\n",
       "    <tr>\n",
       "      <th>4</th>\n",
       "      <td>../data/Training/pituitary/Tr-pi_0801.jpg</td>\n",
       "      <td>pituitary</td>\n",
       "    </tr>\n",
       "    <tr>\n",
       "      <th>...</th>\n",
       "      <td>...</td>\n",
       "      <td>...</td>\n",
       "    </tr>\n",
       "    <tr>\n",
       "      <th>5707</th>\n",
       "      <td>../data/Training/glioma/Tr-gl_0372.jpg</td>\n",
       "      <td>glioma</td>\n",
       "    </tr>\n",
       "    <tr>\n",
       "      <th>5708</th>\n",
       "      <td>../data/Training/glioma/Tr-gl_0897.jpg</td>\n",
       "      <td>glioma</td>\n",
       "    </tr>\n",
       "    <tr>\n",
       "      <th>5709</th>\n",
       "      <td>../data/Training/glioma/Tr-gl_1206.jpg</td>\n",
       "      <td>glioma</td>\n",
       "    </tr>\n",
       "    <tr>\n",
       "      <th>5710</th>\n",
       "      <td>../data/Training/glioma/Tr-gl_0736.jpg</td>\n",
       "      <td>glioma</td>\n",
       "    </tr>\n",
       "    <tr>\n",
       "      <th>5711</th>\n",
       "      <td>../data/Training/glioma/Tr-gl_0418.jpg</td>\n",
       "      <td>glioma</td>\n",
       "    </tr>\n",
       "  </tbody>\n",
       "</table>\n",
       "<p>5712 rows × 2 columns</p>\n",
       "</div>"
      ],
      "text/plain": [
       "                                      filepaths      label\n",
       "0     ../data/Training/pituitary/Tr-pi_0634.jpg  pituitary\n",
       "1     ../data/Training/pituitary/Tr-pi_1202.jpg  pituitary\n",
       "2     ../data/Training/pituitary/Tr-pi_1120.jpg  pituitary\n",
       "3     ../data/Training/pituitary/Tr-pi_0367.jpg  pituitary\n",
       "4     ../data/Training/pituitary/Tr-pi_0801.jpg  pituitary\n",
       "...                                         ...        ...\n",
       "5707     ../data/Training/glioma/Tr-gl_0372.jpg     glioma\n",
       "5708     ../data/Training/glioma/Tr-gl_0897.jpg     glioma\n",
       "5709     ../data/Training/glioma/Tr-gl_1206.jpg     glioma\n",
       "5710     ../data/Training/glioma/Tr-gl_0736.jpg     glioma\n",
       "5711     ../data/Training/glioma/Tr-gl_0418.jpg     glioma\n",
       "\n",
       "[5712 rows x 2 columns]"
      ]
     },
     "execution_count": 3,
     "metadata": {},
     "output_type": "execute_result"
    }
   ],
   "source": [
    "import os\n",
    "import pandas as pd\n",
    "\n",
    "train_data_path = '../data/Training'\n",
    "\n",
    "filepaths = []\n",
    "labels = []\n",
    "\n",
    "folds = [fold for fold in os.listdir(train_data_path)\n",
    "         if os.path.isdir(os.path.join(train_data_path, fold))]\n",
    "\n",
    "for fold in folds:\n",
    "    f_path = os.path.join(train_data_path, fold)\n",
    "    # Skip .DS_Store\n",
    "    if not os.path.isdir(f_path):\n",
    "        continue\n",
    "    filelists = os.listdir(f_path)\n",
    "    for file in filelists:\n",
    "        filepaths.append(os.path.join(f_path, file))\n",
    "        labels.append(fold)\n",
    "\n",
    "Fseries = pd.Series(filepaths, name='filepaths')\n",
    "Lseries = pd.Series(labels, name='label')\n",
    "train_df = pd.concat([Fseries, Lseries], axis=1)\n",
    "train_df"
   ]
  },
  {
   "cell_type": "code",
   "execution_count": 4,
   "metadata": {
    "ExecuteTime": {
     "end_time": "2024-01-14T19:49:35.421608Z",
     "start_time": "2024-01-14T19:49:35.373793Z"
    },
    "execution": {
     "iopub.execute_input": "2023-09-14T13:07:37.491539Z",
     "iopub.status.busy": "2023-09-14T13:07:37.491053Z",
     "iopub.status.idle": "2023-09-14T13:07:37.507198Z",
     "shell.execute_reply": "2023-09-14T13:07:37.506151Z",
     "shell.execute_reply.started": "2023-09-14T13:07:37.491479Z"
    },
    "trusted": true
   },
   "outputs": [
    {
     "data": {
      "text/html": [
       "<div>\n",
       "<style scoped>\n",
       "    .dataframe tbody tr th:only-of-type {\n",
       "        vertical-align: middle;\n",
       "    }\n",
       "\n",
       "    .dataframe tbody tr th {\n",
       "        vertical-align: top;\n",
       "    }\n",
       "\n",
       "    .dataframe thead th {\n",
       "        text-align: right;\n",
       "    }\n",
       "</style>\n",
       "<table border=\"1\" class=\"dataframe\">\n",
       "  <thead>\n",
       "    <tr style=\"text-align: right;\">\n",
       "      <th></th>\n",
       "      <th>filepaths</th>\n",
       "      <th>label</th>\n",
       "    </tr>\n",
       "  </thead>\n",
       "  <tbody>\n",
       "    <tr>\n",
       "      <th>0</th>\n",
       "      <td>../data/Testing/pituitary/Te-pi_0272.jpg</td>\n",
       "      <td>pituitary</td>\n",
       "    </tr>\n",
       "    <tr>\n",
       "      <th>1</th>\n",
       "      <td>../data/Testing/pituitary/Te-pi_0243.jpg</td>\n",
       "      <td>pituitary</td>\n",
       "    </tr>\n",
       "    <tr>\n",
       "      <th>2</th>\n",
       "      <td>../data/Testing/pituitary/Te-pi_0061.jpg</td>\n",
       "      <td>pituitary</td>\n",
       "    </tr>\n",
       "    <tr>\n",
       "      <th>3</th>\n",
       "      <td>../data/Testing/pituitary/Te-pi_0262.jpg</td>\n",
       "      <td>pituitary</td>\n",
       "    </tr>\n",
       "    <tr>\n",
       "      <th>4</th>\n",
       "      <td>../data/Testing/pituitary/Te-pi_0224.jpg</td>\n",
       "      <td>pituitary</td>\n",
       "    </tr>\n",
       "    <tr>\n",
       "      <th>...</th>\n",
       "      <td>...</td>\n",
       "      <td>...</td>\n",
       "    </tr>\n",
       "    <tr>\n",
       "      <th>1306</th>\n",
       "      <td>../data/Testing/glioma/Te-gl_0122.jpg</td>\n",
       "      <td>glioma</td>\n",
       "    </tr>\n",
       "    <tr>\n",
       "      <th>1307</th>\n",
       "      <td>../data/Testing/glioma/Te-gl_0092.jpg</td>\n",
       "      <td>glioma</td>\n",
       "    </tr>\n",
       "    <tr>\n",
       "      <th>1308</th>\n",
       "      <td>../data/Testing/glioma/Te-gl_0238.jpg</td>\n",
       "      <td>glioma</td>\n",
       "    </tr>\n",
       "    <tr>\n",
       "      <th>1309</th>\n",
       "      <td>../data/Testing/glioma/Te-gl_0098.jpg</td>\n",
       "      <td>glioma</td>\n",
       "    </tr>\n",
       "    <tr>\n",
       "      <th>1310</th>\n",
       "      <td>../data/Testing/glioma/Te-gl_0138.jpg</td>\n",
       "      <td>glioma</td>\n",
       "    </tr>\n",
       "  </tbody>\n",
       "</table>\n",
       "<p>1311 rows × 2 columns</p>\n",
       "</div>"
      ],
      "text/plain": [
       "                                     filepaths      label\n",
       "0     ../data/Testing/pituitary/Te-pi_0272.jpg  pituitary\n",
       "1     ../data/Testing/pituitary/Te-pi_0243.jpg  pituitary\n",
       "2     ../data/Testing/pituitary/Te-pi_0061.jpg  pituitary\n",
       "3     ../data/Testing/pituitary/Te-pi_0262.jpg  pituitary\n",
       "4     ../data/Testing/pituitary/Te-pi_0224.jpg  pituitary\n",
       "...                                        ...        ...\n",
       "1306     ../data/Testing/glioma/Te-gl_0122.jpg     glioma\n",
       "1307     ../data/Testing/glioma/Te-gl_0092.jpg     glioma\n",
       "1308     ../data/Testing/glioma/Te-gl_0238.jpg     glioma\n",
       "1309     ../data/Testing/glioma/Te-gl_0098.jpg     glioma\n",
       "1310     ../data/Testing/glioma/Te-gl_0138.jpg     glioma\n",
       "\n",
       "[1311 rows x 2 columns]"
      ]
     },
     "execution_count": 4,
     "metadata": {},
     "output_type": "execute_result"
    }
   ],
   "source": [
    "test_data_path = '../data/Testing'\n",
    "\n",
    "filepaths = []\n",
    "labels = []\n",
    "\n",
    "folds = [fold for fold in os.listdir(test_data_path)\n",
    "         if os.path.isdir(os.path.join(test_data_path, fold))]\n",
    "\n",
    "for fold in folds:\n",
    "    f_path = os.path.join(test_data_path, fold)\n",
    "    # Skip .DS_Store\n",
    "    if not os.path.isdir(f_path):\n",
    "        continue\n",
    "    filelists = os.listdir(f_path)\n",
    "    for file in filelists:\n",
    "        filepaths.append(os.path.join(f_path, file))\n",
    "        labels.append(fold)\n",
    "\n",
    "Fseries = pd.Series(filepaths, name='filepaths')\n",
    "Lseries = pd.Series(labels, name='label')\n",
    "test_df = pd.concat([Fseries, Lseries], axis=1)\n",
    "test_df"
   ]
  },
  {
   "cell_type": "markdown",
   "metadata": {},
   "source": [
    "## TensorFlow Image Data Generator and classes dataframes"
   ]
  },
  {
   "cell_type": "code",
   "execution_count": 5,
   "metadata": {
    "ExecuteTime": {
     "end_time": "2024-01-14T19:50:05.286049Z",
     "start_time": "2024-01-14T19:50:05.148521Z"
    },
    "execution": {
     "iopub.execute_input": "2023-09-14T13:07:37.536739Z",
     "iopub.status.busy": "2023-09-14T13:07:37.536300Z",
     "iopub.status.idle": "2023-09-14T13:07:47.302239Z",
     "shell.execute_reply": "2023-09-14T13:07:47.301259Z",
     "shell.execute_reply.started": "2023-09-14T13:07:37.536701Z"
    },
    "trusted": true
   },
   "outputs": [
    {
     "name": "stdout",
     "output_type": "stream",
     "text": [
      "Found 5712 validated image filenames belonging to 4 classes.\n",
      "Found 655 validated image filenames belonging to 4 classes.\n",
      "Found 656 validated image filenames belonging to 4 classes.\n"
     ]
    }
   ],
   "source": [
    "img_size = (224, 244)\n",
    "batch_size = 16\n",
    "valid, test = train_test_split(test_df, train_size=0.5,\n",
    "                               shuffle=True, random_state=42)\n",
    "tr_gen = ImageDataGenerator()\n",
    "ts_gen = ImageDataGenerator()\n",
    "\n",
    "train_gen = tr_gen.flow_from_dataframe(train_df, x_col='filepaths',\n",
    "                                       y_col='label', target_size=img_size,\n",
    "                                       class_mode='categorical',\n",
    "                                       color_mode='rgb', shuffle=True,\n",
    "                                       batch_size=batch_size)\n",
    "\n",
    "valid_gen = ts_gen.flow_from_dataframe(valid, x_col='filepaths',\n",
    "                                       y_col='label', target_size=img_size,\n",
    "                                       class_mode='categorical',\n",
    "                                       color_mode='rgb', shuffle=True,\n",
    "                                       batch_size=batch_size)\n",
    "\n",
    "test_gen = ts_gen.flow_from_dataframe(test, x_col='filepaths', y_col='label',\n",
    "                                      target_size=img_size,\n",
    "                                      class_mode='categorical',\n",
    "                                      color_mode='rgb',\n",
    "                                      shuffle=False, batch_size=batch_size)\n",
    "# Classes dataframes\n",
    "gen_dict = train_gen.class_indices\n",
    "classes = list(gen_dict.keys())\n",
    "images, labels = next(train_gen)"
   ]
  },
  {
   "cell_type": "markdown",
   "metadata": {},
   "source": [
    "## Model Structure"
   ]
  },
  {
   "cell_type": "code",
   "execution_count": 6,
   "metadata": {
    "ExecuteTime": {
     "end_time": "2024-01-14T19:50:45.882515Z",
     "start_time": "2024-01-14T19:50:44.382157Z"
    },
    "execution": {
     "iopub.execute_input": "2023-09-14T13:07:50.534026Z",
     "iopub.status.busy": "2023-09-14T13:07:50.533557Z",
     "iopub.status.idle": "2023-09-14T13:07:57.425037Z",
     "shell.execute_reply": "2023-09-14T13:07:57.424043Z",
     "shell.execute_reply.started": "2023-09-14T13:07:50.533988Z"
    },
    "trusted": true
   },
   "outputs": [
    {
     "name": "stderr",
     "output_type": "stream",
     "text": [
      "2024-04-14 17:47:58.196514: I external/local_xla/xla/stream_executor/cuda/cuda_executor.cc:887] could not open file to read NUMA node: /sys/bus/pci/devices/0000:01:00.0/numa_node\n",
      "Your kernel may have been built without NUMA support.\n",
      "2024-04-14 17:47:58.222412: W tensorflow/core/common_runtime/gpu/gpu_device.cc:2256] Cannot dlopen some GPU libraries. Please make sure the missing libraries mentioned above are installed properly if you would like to use GPU. Follow the guide at https://www.tensorflow.org/install/gpu for how to download and setup the required libraries for your platform.\n",
      "Skipping registering GPU devices...\n"
     ]
    }
   ],
   "source": [
    "img_shape = (img_size[0], img_size[1], 3)\n",
    "num_class = len(classes)\n",
    "\n",
    "base_model = tf.keras.applications.efficientnet.EfficientNetB3(\n",
    "    include_top=False,\n",
    "    weights='imagenet',\n",
    "    input_shape=img_shape,\n",
    "    pooling='max')\n",
    "model = Sequential([\n",
    "    base_model,\n",
    "    BatchNormalization(axis=-1, momentum=0.99, epsilon=0.001),\n",
    "    Dense(256, kernel_regularizer=regularizers.l2(l=0.016),\n",
    "          activity_regularizer=regularizers.l1(0.007),\n",
    "          bias_regularizer=regularizers.l1(0.007), activation='relu'),\n",
    "    Dropout(rate=0.4, seed=75),\n",
    "    Dense(num_class, activation='softmax')\n",
    "])\n",
    "\n",
    "model.compile(Adamax(learning_rate=0.001), loss='categorical_crossentropy',\n",
    "              metrics=['accuracy'])"
   ]
  },
  {
   "cell_type": "markdown",
   "metadata": {
    "collapsed": false
   },
   "source": [
    "## Model main info"
   ]
  },
  {
   "cell_type": "code",
   "execution_count": 7,
   "metadata": {
    "ExecuteTime": {
     "end_time": "2024-01-14T19:51:03.350986Z",
     "start_time": "2024-01-14T19:51:03.317556Z"
    },
    "collapsed": false
   },
   "outputs": [
    {
     "name": "stdout",
     "output_type": "stream",
     "text": [
      "Model: \"sequential\"\n",
      "_________________________________________________________________\n",
      " Layer (type)                Output Shape              Param #   \n",
      "=================================================================\n",
      " efficientnetb3 (Functional  (None, 1536)              10783535  \n",
      " )                                                               \n",
      "                                                                 \n",
      " batch_normalization (Batch  (None, 1536)              6144      \n",
      " Normalization)                                                  \n",
      "                                                                 \n",
      " dense (Dense)               (None, 256)               393472    \n",
      "                                                                 \n",
      " dropout (Dropout)           (None, 256)               0         \n",
      "                                                                 \n",
      " dense_1 (Dense)             (None, 4)                 1028      \n",
      "                                                                 \n",
      "=================================================================\n",
      "Total params: 11184179 (42.66 MB)\n",
      "Trainable params: 11093804 (42.32 MB)\n",
      "Non-trainable params: 90375 (353.03 KB)\n",
      "_________________________________________________________________\n"
     ]
    }
   ],
   "source": [
    "model.summary()"
   ]
  },
  {
   "cell_type": "markdown",
   "metadata": {},
   "source": [
    "## Iterative training"
   ]
  },
  {
   "cell_type": "code",
   "execution_count": 8,
   "metadata": {
    "ExecuteTime": {
     "end_time": "2024-01-14T20:20:13.070396Z",
     "start_time": "2024-01-14T19:51:24.590561Z"
    },
    "execution": {
     "iopub.execute_input": "2023-09-14T13:07:57.427564Z",
     "iopub.status.busy": "2023-09-14T13:07:57.426816Z",
     "iopub.status.idle": "2023-09-14T13:24:53.194764Z",
     "shell.execute_reply": "2023-09-14T13:24:53.193489Z",
     "shell.execute_reply.started": "2023-09-14T13:07:57.427511Z"
    },
    "trusted": true
   },
   "outputs": [
    {
     "name": "stdout",
     "output_type": "stream",
     "text": [
      "Epoch 1/2\n",
      "357/357 [==============================] - 906s 2s/step - loss: 5.8129 - accuracy: 0.8713 - val_loss: 3.8383 - val_accuracy: 0.9435\n",
      "Epoch 2/2\n",
      "357/357 [==============================] - 873s 2s/step - loss: 2.7145 - accuracy: 0.9631 - val_loss: 1.8220 - val_accuracy: 0.9908\n"
     ]
    }
   ],
   "source": [
    "Epochs = 2\n",
    "\n",
    "history = model.fit(x=train_gen, epochs=Epochs,\n",
    "                    verbose=1, validation_data=valid_gen,\n",
    "                    validation_steps=None, shuffle=False)"
   ]
  },
  {
   "cell_type": "code",
   "execution_count": 11,
   "metadata": {
    "ExecuteTime": {
     "end_time": "2024-01-14T15:39:23.526583Z",
     "start_time": "2024-01-14T15:39:23.433714Z"
    },
    "collapsed": false
   },
   "outputs": [
    {
     "name": "stdout",
     "output_type": "stream",
     "text": [
      "1/1 [==============================] - 1s 1s/step\n",
      "The predicted class is: notumor\n"
     ]
    }
   ],
   "source": [
    "# Load the single image\n",
    "image = tf.keras.utils.load_img(\n",
    "    '../data/Testing/notumor/Te-no_0404.jpg',\n",
    "    target_size=(img_size[0], img_size[1]))\n",
    "image = tf.keras.utils.img_to_array(image)\n",
    "image = tf.expand_dims(image, axis=0)\n",
    "image = tf.keras.applications.efficientnet.preprocess_input(image)\n",
    "predictions = model.predict(image)\n",
    "predicted_class = tf.math.argmax(predictions, axis=1)\n",
    "class_dict_local = {0: 'glioma', 1: 'meningioma', 2: 'notumor', 3: 'pituitary'}\n",
    "predicted_class_literal = class_dict_local[predicted_class.numpy()[0]]\n",
    "print('The predicted class is:', predicted_class_literal)"
   ]
  },
  {
   "cell_type": "markdown",
   "metadata": {},
   "source": [
    "## Common Metrics"
   ]
  },
  {
   "cell_type": "code",
   "execution_count": 12,
   "metadata": {
    "ExecuteTime": {
     "end_time": "2024-01-14T20:22:02.780709Z",
     "start_time": "2024-01-14T20:21:47.110027Z"
    },
    "execution": {
     "iopub.execute_input": "2023-09-14T13:24:54.005977Z",
     "iopub.status.busy": "2023-09-14T13:24:54.004929Z",
     "iopub.status.idle": "2023-09-14T13:24:57.482582Z",
     "shell.execute_reply": "2023-09-14T13:24:57.481594Z",
     "shell.execute_reply.started": "2023-09-14T13:24:54.005940Z"
    },
    "trusted": true
   },
   "outputs": [
    {
     "name": "stdout",
     "output_type": "stream",
     "text": [
      "16/16 [==============================] - 8s 468ms/step - loss: 1.7999 - accuracy: 0.9961\n",
      "16/16 [==============================] - 7s 462ms/step - loss: 1.8260 - accuracy: 0.9883\n",
      "16/16 [==============================] - 7s 459ms/step - loss: 1.8266 - accuracy: 0.9883\n",
      "Train Loss:  1.7999218702316284\n",
      "Train Accuracy:  0.99609375\n",
      "Validation Loss:  1.8259507417678833\n",
      "Validation Accuracy:  0.98828125\n",
      "Test Loss:  1.8265697956085205\n",
      "Test Accuracy:  0.98828125\n"
     ]
    }
   ],
   "source": [
    "train_score = model.evaluate(train_gen, steps=16, verbose=1)\n",
    "valid_score = model.evaluate(valid_gen, steps=16, verbose=1)\n",
    "test_score = model.evaluate(test_gen, steps=16, verbose=1)\n",
    "\n",
    "print(\"Train Loss: \", train_score[0])\n",
    "print(\"Train Accuracy: \", train_score[1])\n",
    "print(\"Validation Loss: \", valid_score[0])\n",
    "print(\"Validation Accuracy: \", valid_score[1])\n",
    "print(\"Test Loss: \", test_score[0])\n",
    "print(\"Test Accuracy: \", test_score[1])"
   ]
  },
  {
   "cell_type": "markdown",
   "metadata": {},
   "source": [
    "## Metrics of classes"
   ]
  },
  {
   "cell_type": "code",
   "execution_count": 13,
   "metadata": {
    "ExecuteTime": {
     "end_time": "2024-01-14T20:23:52.992262Z",
     "start_time": "2024-01-14T20:23:39.869816Z"
    },
    "execution": {
     "iopub.execute_input": "2023-09-14T13:24:57.484783Z",
     "iopub.status.busy": "2023-09-14T13:24:57.484116Z",
     "iopub.status.idle": "2023-09-14T13:25:02.531069Z",
     "shell.execute_reply": "2023-09-14T13:25:02.529989Z",
     "shell.execute_reply.started": "2023-09-14T13:24:57.484747Z"
    },
    "trusted": true
   },
   "outputs": [
    {
     "name": "stderr",
     "output_type": "stream",
     "text": [
      "/tmp/ipykernel_22477/675270116.py:1: UserWarning: `Model.predict_generator` is deprecated and will be removed in a future version. Please use `Model.predict`, which supports generators.\n",
      "  preds = model.predict_generator(test_gen)\n"
     ]
    },
    {
     "name": "stdout",
     "output_type": "stream",
     "text": [
      "              precision    recall  f1-score   support\n",
      "\n",
      "      glioma       0.99      0.97      0.98       149\n",
      "  meningioma       0.97      0.94      0.96       148\n",
      "     notumor       0.99      1.00      0.99       208\n",
      "   pituitary       0.97      1.00      0.98       151\n",
      "\n",
      "    accuracy                           0.98       656\n",
      "   macro avg       0.98      0.98      0.98       656\n",
      "weighted avg       0.98      0.98      0.98       656\n",
      "\n"
     ]
    }
   ],
   "source": [
    "preds = model.predict_generator(test_gen)\n",
    "y_pred = np.argmax(preds, axis=1)\n",
    "print(classification_report(test_gen.classes, y_pred, target_names=classes))"
   ]
  }
 ],
 "metadata": {
  "kernelspec": {
   "display_name": "Python 3",
   "language": "python",
   "name": "python3"
  },
  "language_info": {
   "codemirror_mode": {
    "name": "ipython",
    "version": 3
   },
   "file_extension": ".py",
   "mimetype": "text/x-python",
   "name": "python",
   "nbconvert_exporter": "python",
   "pygments_lexer": "ipython3",
   "version": "3.10.12"
  }
 },
 "nbformat": 4,
 "nbformat_minor": 4
}
