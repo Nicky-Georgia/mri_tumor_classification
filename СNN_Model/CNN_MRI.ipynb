{
 "cells": [
  {
   "cell_type": "markdown",
   "metadata": {},
   "source": [
    "## Data uploading"
   ]
  },
  {
   "cell_type": "code",
   "execution_count": null,
   "metadata": {
    "ExecuteTime": {
     "end_time": "2024-01-14T19:49:17.123629Z",
     "start_time": "2024-01-14T19:49:17.123136Z"
    },
    "execution": {
     "iopub.execute_input": "2023-09-14T13:07:33.357043Z",
     "iopub.status.busy": "2023-09-14T13:07:33.356389Z",
     "iopub.status.idle": "2023-09-14T13:07:37.428979Z",
     "shell.execute_reply": "2023-09-14T13:07:37.427873Z",
     "shell.execute_reply.started": "2023-09-14T13:07:33.356995Z"
    },
    "trusted": true
   },
   "outputs": [],
   "source": [
    "import tensorflow as tf\n",
    "from tensorflow import keras\n",
    "from tensorflow.keras.models import Sequential\n",
    "from tensorflow.keras.layers import (Conv2D, MaxPooling2D, Flatten,\n",
    "                                     Activation, Dense, Dropout,\n",
    "                                     BatchNormalization)\n",
    "from tensorflow.keras.preprocessing.image import ImageDataGenerator\n",
    "from tensorflow.keras.optimizers import Adam, Adamax\n",
    "from tensorflow.keras import regularizers\n",
    "import os\n",
    "import shutil\n",
    "import itertools\n",
    "import pathlib\n",
    "from PIL import Image\n",
    "import cv2\n",
    "import matplotlib.pyplot as plt\n",
    "import numpy as np\n",
    "import pandas as pd\n",
    "import seaborn as sns\n",
    "from sklearn.model_selection import train_test_split\n",
    "from sklearn.metrics import confusion_matrix, classification_report"
   ]
  },
  {
   "cell_type": "code",
   "execution_count": null,
   "metadata": {
    "ExecuteTime": {
     "end_time": "2024-01-14T19:49:24.819977Z",
     "start_time": "2024-01-14T19:49:24.762828Z"
    },
    "collapsed": false
   },
   "outputs": [],
   "source": [
    "import os\n",
    "import pandas as pd\n",
    "\n",
    "train_data_path = '/Users/nikitarodionov/Downloads/archive/Training'\n",
    "\n",
    "filepaths = []\n",
    "labels = []\n",
    "\n",
    "folds = [fold for fold in os.listdir(train_data_path)\n",
    "         if os.path.isdir(os.path.join(train_data_path, fold))]\n",
    "\n",
    "for fold in folds:\n",
    "    f_path = os.path.join(train_data_path, fold)\n",
    "    # Skip .DS_Store\n",
    "    if not os.path.isdir(f_path):\n",
    "        continue\n",
    "    filelists = os.listdir(f_path)\n",
    "    for file in filelists:\n",
    "        filepaths.append(os.path.join(f_path, file))\n",
    "        labels.append(fold)\n",
    "\n",
    "Fseries = pd.Series(filepaths, name='filepaths')\n",
    "Lseries = pd.Series(labels, name='label')\n",
    "train_df = pd.concat([Fseries, Lseries], axis=1)\n",
    "train_df"
   ]
  },
  {
   "cell_type": "code",
   "execution_count": null,
   "metadata": {
    "ExecuteTime": {
     "end_time": "2024-01-14T19:49:35.421608Z",
     "start_time": "2024-01-14T19:49:35.373793Z"
    },
    "execution": {
     "iopub.execute_input": "2023-09-14T13:07:37.491539Z",
     "iopub.status.busy": "2023-09-14T13:07:37.491053Z",
     "iopub.status.idle": "2023-09-14T13:07:37.507198Z",
     "shell.execute_reply": "2023-09-14T13:07:37.506151Z",
     "shell.execute_reply.started": "2023-09-14T13:07:37.491479Z"
    },
    "trusted": true
   },
   "outputs": [],
   "source": [
    "test_data_path = '/Users/nikitarodionov/Downloads/archive/Testing'\n",
    "\n",
    "filepaths = []\n",
    "labels = []\n",
    "\n",
    "folds = [fold for fold in os.listdir(test_data_path)\n",
    "         if os.path.isdir(os.path.join(test_data_path, fold))]\n",
    "\n",
    "for fold in folds:\n",
    "    f_path = os.path.join(test_data_path, fold)\n",
    "    # Skip .DS_Store\n",
    "    if not os.path.isdir(f_path):\n",
    "        continue\n",
    "    filelists = os.listdir(f_path)\n",
    "    for file in filelists:\n",
    "        filepaths.append(os.path.join(f_path, file))\n",
    "        labels.append(fold)\n",
    "\n",
    "Fseries = pd.Series(filepaths, name='filepaths')\n",
    "Lseries = pd.Series(labels, name='label')\n",
    "test_df = pd.concat([Fseries, Lseries], axis=1)\n",
    "test_df"
   ]
  },
  {
   "cell_type": "markdown",
   "metadata": {},
   "source": [
    "## TensorFlow Image Data Generator and classes dataframes"
   ]
  },
  {
   "cell_type": "code",
   "execution_count": null,
   "metadata": {
    "ExecuteTime": {
     "end_time": "2024-01-14T19:50:05.286049Z",
     "start_time": "2024-01-14T19:50:05.148521Z"
    },
    "execution": {
     "iopub.execute_input": "2023-09-14T13:07:37.536739Z",
     "iopub.status.busy": "2023-09-14T13:07:37.536300Z",
     "iopub.status.idle": "2023-09-14T13:07:47.302239Z",
     "shell.execute_reply": "2023-09-14T13:07:47.301259Z",
     "shell.execute_reply.started": "2023-09-14T13:07:37.536701Z"
    },
    "trusted": true
   },
   "outputs": [],
   "source": [
    "img_size = (224, 244)\n",
    "batch_size = 16\n",
    "valid, test = train_test_split(test_df, train_size=0.5,\n",
    "                               shuffle=True, random_state=42)\n",
    "tr_gen = ImageDataGenerator()\n",
    "ts_gen = ImageDataGenerator()\n",
    "\n",
    "train_gen = tr_gen.flow_from_dataframe(train_df, x_col='filepaths',\n",
    "                                       y_col='label', target_size=img_size,\n",
    "                                       class_mode='categorical',\n",
    "                                       color_mode='rgb', shuffle=True,\n",
    "                                       batch_size=batch_size)\n",
    "\n",
    "valid_gen = ts_gen.flow_from_dataframe(valid, x_col='filepaths',\n",
    "                                       y_col='label', target_size=img_size,\n",
    "                                       class_mode='categorical',\n",
    "                                       color_mode='rgb', shuffle=True,\n",
    "                                       batch_size=batch_size)\n",
    "\n",
    "test_gen = ts_gen.flow_from_dataframe(test, x_col='filepaths', y_col='label',\n",
    "                                      target_size=img_size,\n",
    "                                      class_mode='categorical',\n",
    "                                      color_mode='rgb',\n",
    "                                      shuffle=False, batch_size=batch_size)\n",
    "# Classes dataframes\n",
    "gen_dict = train_gen.class_indices\n",
    "classes = list(gen_dict.keys())\n",
    "images, labels = next(train_gen)"
   ]
  },
  {
   "cell_type": "markdown",
   "metadata": {},
   "source": [
    "## Model Structure"
   ]
  },
  {
   "cell_type": "code",
   "execution_count": null,
   "metadata": {
    "ExecuteTime": {
     "end_time": "2024-01-14T19:50:45.882515Z",
     "start_time": "2024-01-14T19:50:44.382157Z"
    },
    "execution": {
     "iopub.execute_input": "2023-09-14T13:07:50.534026Z",
     "iopub.status.busy": "2023-09-14T13:07:50.533557Z",
     "iopub.status.idle": "2023-09-14T13:07:57.425037Z",
     "shell.execute_reply": "2023-09-14T13:07:57.424043Z",
     "shell.execute_reply.started": "2023-09-14T13:07:50.533988Z"
    },
    "trusted": true
   },
   "outputs": [],
   "source": [
    "img_shape = (img_size[0], img_size[1], 3)\n",
    "num_class = len(classes)\n",
    "\n",
    "base_model = tf.keras.applications.efficientnet.EfficientNetB3(\n",
    "    include_top=False,\n",
    "    weights='imagenet',\n",
    "    input_shape=img_shape,\n",
    "    pooling='max')\n",
    "model = Sequential([\n",
    "    base_model,\n",
    "    BatchNormalization(axis=-1, momentum=0.99, epsilon=0.001),\n",
    "    Dense(256, kernel_regularizer=regularizers.l2(l=0.01),\n",
    "          activity_regularizer=regularizers.l1(0.005),\n",
    "          bias_regularizer=regularizers.l1(0.005), activation='relu'),\n",
    "    Dropout(rate=0.4, seed=75),\n",
    "    Dense(num_class, activation='softmax')\n",
    "])\n",
    "\n",
    "model.compile(Adamax(learning_rate=0.001), loss='categorical_crossentropy',\n",
    "              metrics=['accuracy'])"
   ]
  },
  {
   "cell_type": "markdown",
   "metadata": {
    "collapsed": false
   },
   "source": [
    "## Model main info"
   ]
  },
  {
   "cell_type": "code",
   "execution_count": null,
   "metadata": {
    "ExecuteTime": {
     "end_time": "2024-01-14T19:51:03.350986Z",
     "start_time": "2024-01-14T19:51:03.317556Z"
    },
    "collapsed": false
   },
   "outputs": [],
   "source": [
    "model.summary()"
   ]
  },
  {
   "cell_type": "markdown",
   "metadata": {},
   "source": [
    "## Iterative training"
   ]
  },
  {
   "cell_type": "code",
   "execution_count": null,
   "metadata": {
    "ExecuteTime": {
     "end_time": "2024-01-14T20:20:13.070396Z",
     "start_time": "2024-01-14T19:51:24.590561Z"
    },
    "execution": {
     "iopub.execute_input": "2023-09-14T13:07:57.427564Z",
     "iopub.status.busy": "2023-09-14T13:07:57.426816Z",
     "iopub.status.idle": "2023-09-14T13:24:53.194764Z",
     "shell.execute_reply": "2023-09-14T13:24:53.193489Z",
     "shell.execute_reply.started": "2023-09-14T13:07:57.427511Z"
    },
    "trusted": true
   },
   "outputs": [],
   "source": [
    "Epochs = 2\n",
    "\n",
    "history = model.fit(x=train_gen, epochs=Epochs,\n",
    "                    verbose=1, validation_data=valid_gen,\n",
    "                    validation_steps=None, shuffle=False)"
   ]
  },
  {
   "cell_type": "code",
   "execution_count": null,
   "metadata": {
    "ExecuteTime": {
     "end_time": "2024-01-14T15:39:23.526583Z",
     "start_time": "2024-01-14T15:39:23.433714Z"
    },
    "collapsed": false
   },
   "outputs": [],
   "source": [
    "# Load the single image\n",
    "image = tf.keras.utils.load_img(\n",
    "    '/Users/nikitarodionov/Downloads/archive/Testing/notumor/Te-no_0404.jpg',\n",
    "    target_size=(img_size[0], img_size[1]))\n",
    "image = tf.keras.utils.img_to_array(image)\n",
    "image = tf.expand_dims(image, axis=0)\n",
    "image = tf.keras.applications.efficientnet.preprocess_input(image)\n",
    "predictions = model.predict(image)\n",
    "predicted_class = tf.math.argmax(predictions, axis=1)\n",
    "class_dict_local = {0 : 'glioma', 1 : 'meningioma', 2: 'notumor', 3 : 'pituitary'}\n",
    "predicted_class_literal = class_dict_local[predicted_class.numpy()[0]]\n",
    "print('The predicted class is:', predicted_class_literal)"
   ]
  },
  {
   "cell_type": "markdown",
   "metadata": {},
   "source": [
    "## Common Metrics"
   ]
  },
  {
   "cell_type": "code",
   "execution_count": null,
   "metadata": {
    "ExecuteTime": {
     "end_time": "2024-01-14T20:22:02.780709Z",
     "start_time": "2024-01-14T20:21:47.110027Z"
    },
    "execution": {
     "iopub.execute_input": "2023-09-14T13:24:54.005977Z",
     "iopub.status.busy": "2023-09-14T13:24:54.004929Z",
     "iopub.status.idle": "2023-09-14T13:24:57.482582Z",
     "shell.execute_reply": "2023-09-14T13:24:57.481594Z",
     "shell.execute_reply.started": "2023-09-14T13:24:54.005940Z"
    },
    "trusted": true
   },
   "outputs": [],
   "source": [
    "train_score = model.evaluate(train_gen, steps=16, verbose=1)\n",
    "valid_score = model.evaluate(valid_gen, steps=16, verbose=1)\n",
    "test_score = model.evaluate(test_gen, steps=16, verbose=1)\n",
    "\n",
    "print(\"Train Loss: \", train_score[0])\n",
    "print(\"Train Accuracy: \", train_score[1])\n",
    "print(\"Validation Loss: \", valid_score[0])\n",
    "print(\"Validation Accuracy: \", valid_score[1])\n",
    "print(\"Test Loss: \", test_score[0])\n",
    "print(\"Test Accuracy: \", test_score[1])"
   ]
  },
  {
   "cell_type": "markdown",
   "metadata": {},
   "source": [
    "## Metrics of classes"
   ]
  },
  {
   "cell_type": "code",
   "execution_count": null,
   "metadata": {
    "ExecuteTime": {
     "end_time": "2024-01-14T20:23:52.992262Z",
     "start_time": "2024-01-14T20:23:39.869816Z"
    },
    "execution": {
     "iopub.execute_input": "2023-09-14T13:24:57.484783Z",
     "iopub.status.busy": "2023-09-14T13:24:57.484116Z",
     "iopub.status.idle": "2023-09-14T13:25:02.531069Z",
     "shell.execute_reply": "2023-09-14T13:25:02.529989Z",
     "shell.execute_reply.started": "2023-09-14T13:24:57.484747Z"
    },
    "trusted": true
   },
   "outputs": [],
   "source": [
    "preds = model.predict_generator(test_gen)\n",
    "y_pred = np.argmax(preds, axis=1)\n",
    "print(classification_report(test_gen.classes, y_pred, target_names=classes))"
   ]
  }
 ],
 "metadata": {
  "kernelspec": {
   "display_name": "Python 3",
   "language": "python",
   "name": "python3"
  },
  "language_info": {
   "codemirror_mode": {
    "name": "ipython",
    "version": 3
   },
   "file_extension": ".py",
   "mimetype": "text/x-python",
   "name": "python",
   "nbconvert_exporter": "python",
   "pygments_lexer": "ipython3",
   "version": "3.9.13"
  }
 },
 "nbformat": 4,
 "nbformat_minor": 4
}
