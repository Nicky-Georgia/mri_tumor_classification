{
 "cells": [
  {
   "cell_type": "markdown",
   "metadata": {},
   "source": [
    "### Import libs"
   ]
  },
  {
   "cell_type": "code",
   "execution_count": 1,
   "metadata": {},
   "outputs": [],
   "source": [
    "import os\n",
    "import pandas as pd\n",
    "import numpy as np\n",
    "\n",
    "from torchvision import transforms\n",
    "\n",
    "import torch\n",
    "import torch.nn as nn\n",
    "import torch.optim as optim\n",
    "from torch.utils.data import Dataset, DataLoader\n",
    "\n",
    "from efficientnet_pytorch import EfficientNet\n",
    "\n",
    "from sklearn.metrics import classification_report\n",
    "\n",
    "from PIL import Image\n",
    "\n",
    "import matplotlib.pyplot as plt\n",
    "\n",
    "import random"
   ]
  },
  {
   "cell_type": "markdown",
   "metadata": {},
   "source": [
    "### Prepare data"
   ]
  },
  {
   "cell_type": "code",
   "execution_count": 2,
   "metadata": {},
   "outputs": [],
   "source": [
    "train_data_path = '../data/Training'\n",
    "test_data_path = '../data/Testing'"
   ]
  },
  {
   "cell_type": "code",
   "execution_count": 3,
   "metadata": {},
   "outputs": [],
   "source": [
    "def create_dataframe(data_path):\n",
    "    filepaths = []\n",
    "    labels = []\n",
    "    folds = [fold for fold in os.listdir(data_path) if os.path.isdir(os.path.join(data_path, fold))]\n",
    "    for fold in folds:\n",
    "        f_path = os.path.join(data_path, fold)\n",
    "        if not os.path.isdir(f_path):\n",
    "            continue\n",
    "        filelists = os.listdir(f_path)\n",
    "        for file in filelists:\n",
    "            filepaths.append(os.path.join(f_path, file))\n",
    "            labels.append(fold)\n",
    "    Fseries = pd.Series(filepaths, name='filepaths')\n",
    "    Lseries = pd.Series(labels, name='label')\n",
    "    return pd.concat([Fseries, Lseries], axis=1)\n",
    "\n",
    "train_df = create_dataframe(train_data_path)\n",
    "test_df = create_dataframe(test_data_path)\n",
    "\n",
    "# Создание словаря классов\n",
    "class_names = train_df['label'].unique()\n",
    "class_to_idx = {class_name: idx for idx, class_name in enumerate(class_names)}\n",
    "\n",
    "# Преобразование меток в индексы\n",
    "train_df['label'] = train_df['label'].map(class_to_idx)\n",
    "test_df['label'] = test_df['label'].map(class_to_idx)\n"
   ]
  },
  {
   "cell_type": "code",
   "execution_count": 4,
   "metadata": {},
   "outputs": [],
   "source": [
    "# Преобразования изображений\n",
    "img_size = (224, 244)\n",
    "batch_size = 16\n",
    "\n",
    "train_transform = transforms.Compose([\n",
    "    transforms.Resize(img_size),\n",
    "    transforms.RandomHorizontalFlip(),\n",
    "    transforms.ToTensor(),\n",
    "])\n",
    "\n",
    "test_transform = transforms.Compose([\n",
    "    transforms.Resize(img_size),\n",
    "    transforms.ToTensor(),\n",
    "])"
   ]
  },
  {
   "cell_type": "code",
   "execution_count": 5,
   "metadata": {},
   "outputs": [],
   "source": [
    "# Перенос модели на GPU\n",
    "device = torch.device(\"cuda\" if torch.cuda.is_available() else \"cpu\")"
   ]
  },
  {
   "cell_type": "code",
   "execution_count": 6,
   "metadata": {},
   "outputs": [],
   "source": [
    "# Создание DataLoader'ов\n",
    "class CustomDataset(Dataset):\n",
    "    def __init__(self, dataframe, transform=None):\n",
    "        self.dataframe = dataframe\n",
    "        self.transform = transform\n",
    "\n",
    "    def __len__(self):\n",
    "        return len(self.dataframe)\n",
    "\n",
    "    def __getitem__(self, idx):\n",
    "        img_path = self.dataframe.iloc[idx, 0]\n",
    "        label = self.dataframe.iloc[idx, 1]\n",
    "\n",
    "        image = Image.open(img_path).convert('RGB')\n",
    "        if self.transform:\n",
    "            image = self.transform(image)\n",
    "\n",
    "        return image, label\n",
    "\n",
    "train_dataset = CustomDataset(train_df, transform=train_transform)\n",
    "test_dataset = CustomDataset(test_df, transform=test_transform)\n",
    "\n",
    "train_loader = DataLoader(train_dataset, batch_size=batch_size, shuffle=True)\n",
    "test_loader = DataLoader(test_dataset, batch_size=batch_size, shuffle=False)"
   ]
  },
  {
   "cell_type": "markdown",
   "metadata": {},
   "source": [
    "Model architecture"
   ]
  },
  {
   "cell_type": "code",
   "execution_count": 7,
   "metadata": {},
   "outputs": [
    {
     "name": "stdout",
     "output_type": "stream",
     "text": [
      "Loaded pretrained weights for efficientnet-b3\n"
     ]
    }
   ],
   "source": [
    "class CustomEfficientNetB3(nn.Module):\n",
    "    def __init__(self, num_classes):\n",
    "        super(CustomEfficientNetB3, self).__init__()\n",
    "        self.base_model = EfficientNet.from_pretrained('efficientnet-b3')\n",
    "        self.pooling = nn.AdaptiveMaxPool2d(1)\n",
    "        self.bn = nn.BatchNorm1d(self.base_model._fc.in_features, momentum=0.99, eps=0.001)\n",
    "        self.fc1 = nn.Linear(self.base_model._fc.in_features, 256)\n",
    "        self.relu = nn.ReLU()\n",
    "        self.dropout = nn.Dropout(p=0.4)\n",
    "        self.fc2 = nn.Linear(256, num_classes)\n",
    "        \n",
    "    def forward(self, x):\n",
    "        x = self.base_model.extract_features(x)\n",
    "        x = self.pooling(x).squeeze(-1).squeeze(-1)\n",
    "        x = self.bn(x)\n",
    "        x = self.fc1(x)\n",
    "        x = self.relu(x)\n",
    "        x = self.dropout(x)\n",
    "        x = self.fc2(x)\n",
    "        return x\n",
    "\n",
    "\n",
    "num_classes = 4  \n",
    "model = CustomEfficientNetB3(num_classes).to(device)"
   ]
  },
  {
   "cell_type": "markdown",
   "metadata": {},
   "source": [
    "### Model training and evaluate"
   ]
  },
  {
   "cell_type": "code",
   "execution_count": 8,
   "metadata": {},
   "outputs": [],
   "source": [
    "# Определение функции потерь и оптимизатора\n",
    "criterion = nn.CrossEntropyLoss()\n",
    "optimizer = optim.Adam(model.parameters(), lr=0.001)"
   ]
  },
  {
   "cell_type": "code",
   "execution_count": 9,
   "metadata": {},
   "outputs": [],
   "source": [
    "def evaluate_model(loader):\n",
    "    model.eval()\n",
    "    running_loss = 0.0\n",
    "    correct = 0\n",
    "    total = 0\n",
    "    with torch.no_grad():\n",
    "        for images, labels in loader:\n",
    "            images, labels = images.to(device), labels.to(device)\n",
    "            outputs = model(images)\n",
    "            loss = criterion(outputs, labels)\n",
    "            running_loss += loss.item()\n",
    "            _, predicted = torch.max(outputs.data, 1)\n",
    "            total += labels.size(0)\n",
    "            correct += (predicted == labels).sum().item()\n",
    "    loss = running_loss / len(loader)\n",
    "    accuracy = correct / total\n",
    "    return loss, accuracy"
   ]
  },
  {
   "cell_type": "code",
   "execution_count": 10,
   "metadata": {},
   "outputs": [
    {
     "name": "stdout",
     "output_type": "stream",
     "text": [
      "Epoch [1/20], Train Loss: 0.4568, Train Accuracy: 0.8566, Val Loss: 0.6383, Val Accuracy: 0.8131\n",
      "Epoch [2/20], Train Loss: 0.2492, Train Accuracy: 0.9245, Val Loss: 0.3649, Val Accuracy: 0.8696\n",
      "Epoch [3/20], Train Loss: 0.3780, Train Accuracy: 0.8925, Val Loss: 0.8055, Val Accuracy: 0.7613\n",
      "Epoch [4/20], Train Loss: 0.1868, Train Accuracy: 0.9433, Val Loss: 0.1565, Val Accuracy: 0.9497\n",
      "Epoch [5/20], Train Loss: 0.1505, Train Accuracy: 0.9524, Val Loss: 0.1485, Val Accuracy: 0.9512\n",
      "Epoch [6/20], Train Loss: 0.1346, Train Accuracy: 0.9599, Val Loss: 0.1487, Val Accuracy: 0.9580\n",
      "Epoch [7/20], Train Loss: 0.1534, Train Accuracy: 0.9536, Val Loss: 0.1660, Val Accuracy: 0.9603\n",
      "Epoch [8/20], Train Loss: 0.1606, Train Accuracy: 0.9554, Val Loss: 0.1059, Val Accuracy: 0.9741\n",
      "Epoch [9/20], Train Loss: 0.1379, Train Accuracy: 0.9610, Val Loss: 0.1576, Val Accuracy: 0.9451\n",
      "Epoch [10/20], Train Loss: 0.0873, Train Accuracy: 0.9744, Val Loss: 0.1385, Val Accuracy: 0.9603\n",
      "Epoch [11/20], Train Loss: 0.1280, Train Accuracy: 0.9655, Val Loss: 0.0872, Val Accuracy: 0.9703\n",
      "Epoch [12/20], Train Loss: 0.0988, Train Accuracy: 0.9730, Val Loss: 0.0867, Val Accuracy: 0.9817\n",
      "Epoch [13/20], Train Loss: 0.1068, Train Accuracy: 0.9725, Val Loss: 0.1406, Val Accuracy: 0.9634\n",
      "Epoch [14/20], Train Loss: 0.0505, Train Accuracy: 0.9839, Val Loss: 0.0653, Val Accuracy: 0.9840\n",
      "Epoch [15/20], Train Loss: 0.1412, Train Accuracy: 0.9618, Val Loss: 9.1030, Val Accuracy: 0.9092\n",
      "Epoch [16/20], Train Loss: 0.0922, Train Accuracy: 0.9753, Val Loss: 0.3959, Val Accuracy: 0.9535\n",
      "Epoch [17/20], Train Loss: 0.0772, Train Accuracy: 0.9800, Val Loss: 0.1852, Val Accuracy: 0.9367\n",
      "Epoch [18/20], Train Loss: 0.0766, Train Accuracy: 0.9767, Val Loss: 0.0630, Val Accuracy: 0.9840\n",
      "Epoch [19/20], Train Loss: 0.0705, Train Accuracy: 0.9828, Val Loss: 0.0278, Val Accuracy: 0.9908\n",
      "Epoch [20/20], Train Loss: 0.0799, Train Accuracy: 0.9788, Val Loss: 0.0672, Val Accuracy: 0.9832\n"
     ]
    }
   ],
   "source": [
    "seed = 42\n",
    "torch.manual_seed(seed)\n",
    "torch.cuda.manual_seed(seed)\n",
    "torch.backends.cudnn.deterministic = True\n",
    "torch.backends.cudnn.benchmark = False\n",
    "np.random.seed(seed)\n",
    "random.seed(seed)\n",
    "\n",
    "\n",
    "num_epochs = 20\n",
    "\n",
    "train_losses = []\n",
    "train_accuracies = []\n",
    "val_losses = []\n",
    "val_accuracies = []\n",
    "\n",
    "for epoch in range(num_epochs):\n",
    "    model.train()\n",
    "    running_loss = 0.0\n",
    "    correct = 0\n",
    "    total = 0\n",
    "    for images, labels in train_loader:\n",
    "        images, labels = images.to(device), labels.to(device)\n",
    "        optimizer.zero_grad()\n",
    "        outputs = model(images)\n",
    "        loss = criterion(outputs, labels)\n",
    "        loss.backward()\n",
    "        optimizer.step()\n",
    "        running_loss += loss.item()\n",
    "        _, predicted = torch.max(outputs.data, 1)\n",
    "        total += labels.size(0)\n",
    "        correct += (predicted == labels).sum().item()\n",
    "    train_loss = running_loss / len(train_loader)\n",
    "    train_accuracy = correct / total\n",
    "    train_losses.append(train_loss)\n",
    "    train_accuracies.append(train_accuracy)\n",
    "\n",
    "    val_loss, val_accuracy = evaluate_model(test_loader)\n",
    "    val_losses.append(val_loss)\n",
    "    val_accuracies.append(val_accuracy)\n",
    "\n",
    "    print(f'Epoch [{epoch+1}/{num_epochs}], Train Loss: {train_loss:.4f}, Train Accuracy: {train_accuracy:.4f}, Val Loss: {val_loss:.4f}, Val Accuracy: {val_accuracy:.4f}')"
   ]
  },
  {
   "cell_type": "markdown",
   "metadata": {},
   "source": [
    "\n",
    "\n",
    "### Chart training"
   ]
  },
  {
   "cell_type": "code",
   "execution_count": 21,
   "metadata": {},
   "outputs": [
    {
     "data": {
      "image/png": "[encoded data removed]",
      "text/plain": [
       "<Figure size 1200x500 with 2 Axes>"
      ]
     },
     "metadata": {},
     "output_type": "display_data"
    }
   ],
   "source": [
    "epochs = range(1, num_epochs + 1)\n",
    "\n",
    "plt.figure(figsize=(12, 5))\n",
    "\n",
    "plt.subplot(1, 2, 1)\n",
    "plt.plot(epochs, train_losses, label='Training loss', color='blue')\n",
    "plt.plot(epochs, val_losses, label='Test loss', color='orange')\n",
    "plt.title('Training and test loss')\n",
    "plt.xlabel('Epochs')\n",
    "plt.ylabel('Loss')\n",
    "plt.legend()\n",
    "\n",
    "plt.subplot(1, 2, 2)\n",
    "plt.plot(epochs, train_accuracies, label='Training accuracy', color='blue')\n",
    "plt.plot(epochs, val_accuracies, label='Test accuracy', color='orange')\n",
    "plt.title('Training and test accuracy')\n",
    "plt.xlabel('Epochs')\n",
    "plt.ylabel('Accuracy')\n",
    "plt.legend()\n",
    "\n",
    "plt.show()"
   ]
  },
  {
   "cell_type": "code",
   "execution_count": 14,
   "metadata": {},
   "outputs": [
    {
     "name": "stdout",
     "output_type": "stream",
     "text": [
      "Test Loss:  0.0671759841456159\n",
      "Test Accuracy:  0.9832189168573608\n"
     ]
    }
   ],
   "source": [
    "# Оценка модели на тестовом наборе данных\n",
    "test_loss, test_accuracy = evaluate_model(test_loader)\n",
    "\n",
    "print(\"Test Loss: \", test_loss)\n",
    "print(\"Test Accuracy: \", test_accuracy)"
   ]
  },
  {
   "cell_type": "markdown",
   "metadata": {},
   "source": [
    "### Prediction"
   ]
  },
  {
   "cell_type": "code",
   "execution_count": 15,
   "metadata": {},
   "outputs": [
    {
     "name": "stdout",
     "output_type": "stream",
     "text": [
      "              precision    recall  f1-score   support\n",
      "\n",
      "   pituitary       0.98      0.99      0.99       300\n",
      "     notumor       0.99      1.00      0.99       405\n",
      "  meningioma       0.98      0.96      0.97       306\n",
      "      glioma       0.97      0.99      0.98       300\n",
      "\n",
      "    accuracy                           0.98      1311\n",
      "   macro avg       0.98      0.98      0.98      1311\n",
      "weighted avg       0.98      0.98      0.98      1311\n",
      "\n"
     ]
    }
   ],
   "source": [
    "# Генерация предсказаний на тестовом наборе\n",
    "def generate_predictions(loader):\n",
    "    model.eval()\n",
    "    all_preds = []\n",
    "    all_labels = []\n",
    "    with torch.no_grad():\n",
    "        for images, labels in loader:\n",
    "            images, labels = images.to(device), labels.to(device)\n",
    "            outputs = model(images)\n",
    "            _, predicted = torch.max(outputs, 1)\n",
    "            all_preds.extend(predicted.cpu().numpy())\n",
    "            all_labels.extend(labels.cpu().numpy())\n",
    "    return np.array(all_preds), np.array(all_labels)\n",
    "\n",
    "y_pred, y_true = generate_predictions(test_loader)\n",
    "print(classification_report(y_true, y_pred, target_names=class_names))"
   ]
  },
  {
   "cell_type": "markdown",
   "metadata": {},
   "source": [
    "### Save model"
   ]
  },
  {
   "cell_type": "code",
   "execution_count": 23,
   "metadata": {},
   "outputs": [],
   "source": [
    "torch.save(model.state_dict(), 'model_pytorch.pth')"
   ]
  }
 ],
 "metadata": {
  "kernelspec": {
   "display_name": ".venv",
   "language": "python",
   "name": "python3"
  },
  "language_info": {
   "codemirror_mode": {
    "name": "ipython",
    "version": 3
   },
   "file_extension": ".py",
   "mimetype": "text/x-python",
   "name": "python",
   "nbconvert_exporter": "python",
   "pygments_lexer": "ipython3",
   "version": "3.10.12"
  }
 },
 "nbformat": 4,
 "nbformat_minor": 2
}
