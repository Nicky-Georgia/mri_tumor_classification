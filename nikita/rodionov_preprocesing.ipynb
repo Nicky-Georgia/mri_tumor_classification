{
 "cells": [
  {
   "cell_type": "code",
   "execution_count": 7,
   "id": "initial_id",
   "metadata": {
    "collapsed": true,
    "ExecuteTime": {
     "end_time": "2023-11-16T02:17:00.359694Z",
     "start_time": "2023-11-16T02:16:54.581944Z"
    }
   },
   "outputs": [
    {
     "name": "stdout",
     "output_type": "stream",
     "text": [
      "Calculating Means and Variances for pituitary\n",
      "Mean values for each channel (R, G, B): {'R': 49.26789291589136, 'G': 49.26789291589136, 'B': 49.26789291589136}\n",
      "Variance values for each channel (R, G, B): {'R': 1737.0614408600184, 'G': 1737.0614408600184, 'B': 1737.0614408600184}\n",
      "\n",
      "\n",
      "Calculating Means and Variances for notumor\n",
      "Mean values for each channel (R, G, B): {'R': 60.71833620313725, 'G': 60.721338444466305, 'B': 60.76132097256693}\n",
      "Variance values for each channel (R, G, B): {'R': 3925.5069140957066, 'G': 3925.5333829203105, 'B': 3927.142774506975}\n"
     ]
    }
   ],
   "source": [
    "import cv2\n",
    "import numpy as np\n",
    "import os\n",
    "\n",
    "\n",
    "def calculate_mean_variance(images_folder):\n",
    "    # Get a list of image file names in the specified folder\n",
    "    image_files = [f for f in os.listdir(images_folder) if os.path.isfile(os.path.join(images_folder, f))]\n",
    "\n",
    "    # Initialize dictionaries to store mean and variance values for each color channel\n",
    "    mean_values = {'R': [], 'G': [], 'B': []}\n",
    "    variance_values = {'R': [], 'G': [], 'B': []}\n",
    "\n",
    "    for img_file in image_files:\n",
    "        # Read each image\n",
    "        img = cv2.imread(os.path.join(images_folder, img_file))\n",
    "\n",
    "        # Split image into color channels (BGR format)\n",
    "        b, g, r = cv2.split(img)\n",
    "\n",
    "        # Calculate mean and variance for each color channel\n",
    "        for channel, channel_name in zip((r, g, b), ('R', 'G', 'B')):\n",
    "            mean = np.mean(channel)\n",
    "            variance = np.var(channel)\n",
    "\n",
    "            # Append mean and variance to respective lists\n",
    "            mean_values[channel_name].append(mean)\n",
    "            variance_values[channel_name].append(variance)\n",
    "\n",
    "    # Calculate overall mean and variance across all images for each channel\n",
    "    overall_mean = {channel: np.mean(values) for channel, values in mean_values.items()}\n",
    "    overall_variance = {channel: np.mean(values) for channel, values in variance_values.items()}\n",
    "\n",
    "    return overall_mean, overall_variance\n",
    "\n",
    "\n",
    "# Replace 'path_to_images_folder' with the actual path to your folder containing images\n",
    "folder_path = '/Users/nikitarodionov/Downloads/archive/Training/pituitary'\n",
    "means, variances = calculate_mean_variance(folder_path)\n",
    "print(\"Mean values for each channel (R, G, B):\", means)\n",
    "print(\"Variance values for each channel (R, G, B):\", variances)"
   ]
  },
  {
   "cell_type": "code",
   "execution_count": null,
   "outputs": [],
   "source": [],
   "metadata": {
    "collapsed": false
   },
   "id": "b242a5108137aa23"
  }
 ],
 "metadata": {
  "kernelspec": {
   "display_name": "Python 3",
   "language": "python",
   "name": "python3"
  },
  "language_info": {
   "codemirror_mode": {
    "name": "ipython",
    "version": 2
   },
   "file_extension": ".py",
   "mimetype": "text/x-python",
   "name": "python",
   "nbconvert_exporter": "python",
   "pygments_lexer": "ipython2",
   "version": "2.7.6"
  }
 },
 "nbformat": 4,
 "nbformat_minor": 5
}
