{
 "metadata": {
  "kernelspec": {
   "language": "python",
   "display_name": "Python 3",
   "name": "python3"
  },
  "language_info": {
   "name": "python",
   "version": "3.10.12",
   "mimetype": "text/x-python",
   "codemirror_mode": {
    "name": "ipython",
    "version": 3
   },
   "pygments_lexer": "ipython3",
   "nbconvert_exporter": "python",
   "file_extension": ".py"
  }
 },
 "nbformat_minor": 4,
 "nbformat": 4,
 "cells": [
  {
   "cell_type": "markdown",
   "source": [
    "## Data uploading"
   ],
   "metadata": {}
  },
  {
   "cell_type": "code",
   "source": [
    "import tensorflow as tf\n",
    "from tensorflow import keras\n",
    "from tensorflow.keras.models import Sequential\n",
    "from tensorflow.keras.layers import Conv2D , MaxPooling2D , Flatten , Activation , Dense , Dropout , BatchNormalization\n",
    "from tensorflow.keras.preprocessing.image import ImageDataGenerator\n",
    "from tensorflow.keras.optimizers import Adam , Adamax\n",
    "from tensorflow.keras import regularizers\n",
    "import os\n",
    "import shutil\n",
    "import itertools\n",
    "import pathlib\n",
    "from PIL import Image\n",
    "import cv2\n",
    "import matplotlib.pyplot as plt\n",
    "import numpy as np\n",
    "import pandas as pd\n",
    "import seaborn as sns\n",
    "from sklearn.model_selection import train_test_split\n",
    "from sklearn.metrics import confusion_matrix , classification_report"
   ],
   "metadata": {
    "execution": {
     "iopub.status.busy": "2023-09-14T13:07:33.356389Z",
     "iopub.execute_input": "2023-09-14T13:07:33.357043Z",
     "iopub.status.idle": "2023-09-14T13:07:37.428979Z",
     "shell.execute_reply.started": "2023-09-14T13:07:33.356995Z",
     "shell.execute_reply": "2023-09-14T13:07:37.427873Z"
    },
    "trusted": true,
    "ExecuteTime": {
     "end_time": "2024-01-14T19:49:17.123629Z",
     "start_time": "2024-01-14T19:49:17.123136Z"
    }
   },
   "execution_count": 57,
   "outputs": []
  },
  {
   "cell_type": "code",
   "execution_count": 58,
   "outputs": [
    {
     "data": {
      "text/plain": "                                              filepaths       label\n0     /Users/nikitarodionov/Downloads/archive/Traini...   pituitary\n1     /Users/nikitarodionov/Downloads/archive/Traini...   pituitary\n2     /Users/nikitarodionov/Downloads/archive/Traini...   pituitary\n3     /Users/nikitarodionov/Downloads/archive/Traini...   pituitary\n4     /Users/nikitarodionov/Downloads/archive/Traini...   pituitary\n...                                                 ...         ...\n5707  /Users/nikitarodionov/Downloads/archive/Traini...  meningioma\n5708  /Users/nikitarodionov/Downloads/archive/Traini...  meningioma\n5709  /Users/nikitarodionov/Downloads/archive/Traini...  meningioma\n5710  /Users/nikitarodionov/Downloads/archive/Traini...  meningioma\n5711  /Users/nikitarodionov/Downloads/archive/Traini...  meningioma\n\n[5712 rows x 2 columns]",
      "text/html": "<div>\n<style scoped>\n    .dataframe tbody tr th:only-of-type {\n        vertical-align: middle;\n    }\n\n    .dataframe tbody tr th {\n        vertical-align: top;\n    }\n\n    .dataframe thead th {\n        text-align: right;\n    }\n</style>\n<table border=\"1\" class=\"dataframe\">\n  <thead>\n    <tr style=\"text-align: right;\">\n      <th></th>\n      <th>filepaths</th>\n      <th>label</th>\n    </tr>\n  </thead>\n  <tbody>\n    <tr>\n      <th>0</th>\n      <td>/Users/nikitarodionov/Downloads/archive/Traini...</td>\n      <td>pituitary</td>\n    </tr>\n    <tr>\n      <th>1</th>\n      <td>/Users/nikitarodionov/Downloads/archive/Traini...</td>\n      <td>pituitary</td>\n    </tr>\n    <tr>\n      <th>2</th>\n      <td>/Users/nikitarodionov/Downloads/archive/Traini...</td>\n      <td>pituitary</td>\n    </tr>\n    <tr>\n      <th>3</th>\n      <td>/Users/nikitarodionov/Downloads/archive/Traini...</td>\n      <td>pituitary</td>\n    </tr>\n    <tr>\n      <th>4</th>\n      <td>/Users/nikitarodionov/Downloads/archive/Traini...</td>\n      <td>pituitary</td>\n    </tr>\n    <tr>\n      <th>...</th>\n      <td>...</td>\n      <td>...</td>\n    </tr>\n    <tr>\n      <th>5707</th>\n      <td>/Users/nikitarodionov/Downloads/archive/Traini...</td>\n      <td>meningioma</td>\n    </tr>\n    <tr>\n      <th>5708</th>\n      <td>/Users/nikitarodionov/Downloads/archive/Traini...</td>\n      <td>meningioma</td>\n    </tr>\n    <tr>\n      <th>5709</th>\n      <td>/Users/nikitarodionov/Downloads/archive/Traini...</td>\n      <td>meningioma</td>\n    </tr>\n    <tr>\n      <th>5710</th>\n      <td>/Users/nikitarodionov/Downloads/archive/Traini...</td>\n      <td>meningioma</td>\n    </tr>\n    <tr>\n      <th>5711</th>\n      <td>/Users/nikitarodionov/Downloads/archive/Traini...</td>\n      <td>meningioma</td>\n    </tr>\n  </tbody>\n</table>\n<p>5712 rows × 2 columns</p>\n</div>"
     },
     "execution_count": 58,
     "metadata": {},
     "output_type": "execute_result"
    }
   ],
   "source": [
    "import os\n",
    "import pandas as pd\n",
    "\n",
    "train_data_path = '/Users/nikitarodionov/Downloads/archive/Training'\n",
    "\n",
    "filepaths = []\n",
    "labels = []\n",
    "\n",
    "folds = [fold for fold in os.listdir(train_data_path) if os.path.isdir(os.path.join(train_data_path, fold))]\n",
    "\n",
    "for fold in folds:\n",
    "    f_path = os.path.join(train_data_path, fold)\n",
    "    # Skip .DS_Store\n",
    "    if not os.path.isdir(f_path):\n",
    "        continue\n",
    "    filelists = os.listdir(f_path)\n",
    "    for file in filelists:\n",
    "        filepaths.append(os.path.join(f_path, file))\n",
    "        labels.append(fold)\n",
    "\n",
    "Fseries = pd.Series(filepaths, name='filepaths')\n",
    "Lseries = pd.Series(labels, name='label')\n",
    "train_df = pd.concat([Fseries, Lseries], axis=1)\n",
    "train_df"
   ],
   "metadata": {
    "collapsed": false,
    "ExecuteTime": {
     "end_time": "2024-01-14T19:49:24.819977Z",
     "start_time": "2024-01-14T19:49:24.762828Z"
    }
   }
  },
  {
   "cell_type": "code",
   "source": [
    "test_data_path = '/Users/nikitarodionov/Downloads/archive/Testing'\n",
    "\n",
    "filepaths = []\n",
    "labels = []\n",
    "\n",
    "folds = [fold for fold in os.listdir(test_data_path) if os.path.isdir(os.path.join(test_data_path, fold))]\n",
    "\n",
    "for fold in folds:\n",
    "    f_path = os.path.join(test_data_path, fold)\n",
    "    # Skip .DS_Store\n",
    "    if not os.path.isdir(f_path):\n",
    "        continue\n",
    "    filelists = os.listdir(f_path)\n",
    "    for file in filelists:\n",
    "        filepaths.append(os.path.join(f_path, file))\n",
    "        labels.append(fold)\n",
    "\n",
    "Fseries = pd.Series(filepaths, name='filepaths')\n",
    "Lseries = pd.Series(labels, name='label')\n",
    "test_df = pd.concat([Fseries, Lseries], axis=1)\n",
    "test_df"
   ],
   "metadata": {
    "execution": {
     "iopub.status.busy": "2023-09-14T13:07:37.491053Z",
     "iopub.execute_input": "2023-09-14T13:07:37.491539Z",
     "iopub.status.idle": "2023-09-14T13:07:37.507198Z",
     "shell.execute_reply.started": "2023-09-14T13:07:37.491479Z",
     "shell.execute_reply": "2023-09-14T13:07:37.506151Z"
    },
    "trusted": true,
    "ExecuteTime": {
     "end_time": "2024-01-14T19:49:35.421608Z",
     "start_time": "2024-01-14T19:49:35.373793Z"
    }
   },
   "execution_count": 59,
   "outputs": [
    {
     "data": {
      "text/plain": "                                              filepaths       label\n0     /Users/nikitarodionov/Downloads/archive/Testin...   pituitary\n1     /Users/nikitarodionov/Downloads/archive/Testin...   pituitary\n2     /Users/nikitarodionov/Downloads/archive/Testin...   pituitary\n3     /Users/nikitarodionov/Downloads/archive/Testin...   pituitary\n4     /Users/nikitarodionov/Downloads/archive/Testin...   pituitary\n...                                                 ...         ...\n1306  /Users/nikitarodionov/Downloads/archive/Testin...  meningioma\n1307  /Users/nikitarodionov/Downloads/archive/Testin...  meningioma\n1308  /Users/nikitarodionov/Downloads/archive/Testin...  meningioma\n1309  /Users/nikitarodionov/Downloads/archive/Testin...  meningioma\n1310  /Users/nikitarodionov/Downloads/archive/Testin...  meningioma\n\n[1311 rows x 2 columns]",
      "text/html": "<div>\n<style scoped>\n    .dataframe tbody tr th:only-of-type {\n        vertical-align: middle;\n    }\n\n    .dataframe tbody tr th {\n        vertical-align: top;\n    }\n\n    .dataframe thead th {\n        text-align: right;\n    }\n</style>\n<table border=\"1\" class=\"dataframe\">\n  <thead>\n    <tr style=\"text-align: right;\">\n      <th></th>\n      <th>filepaths</th>\n      <th>label</th>\n    </tr>\n  </thead>\n  <tbody>\n    <tr>\n      <th>0</th>\n      <td>/Users/nikitarodionov/Downloads/archive/Testin...</td>\n      <td>pituitary</td>\n    </tr>\n    <tr>\n      <th>1</th>\n      <td>/Users/nikitarodionov/Downloads/archive/Testin...</td>\n      <td>pituitary</td>\n    </tr>\n    <tr>\n      <th>2</th>\n      <td>/Users/nikitarodionov/Downloads/archive/Testin...</td>\n      <td>pituitary</td>\n    </tr>\n    <tr>\n      <th>3</th>\n      <td>/Users/nikitarodionov/Downloads/archive/Testin...</td>\n      <td>pituitary</td>\n    </tr>\n    <tr>\n      <th>4</th>\n      <td>/Users/nikitarodionov/Downloads/archive/Testin...</td>\n      <td>pituitary</td>\n    </tr>\n    <tr>\n      <th>...</th>\n      <td>...</td>\n      <td>...</td>\n    </tr>\n    <tr>\n      <th>1306</th>\n      <td>/Users/nikitarodionov/Downloads/archive/Testin...</td>\n      <td>meningioma</td>\n    </tr>\n    <tr>\n      <th>1307</th>\n      <td>/Users/nikitarodionov/Downloads/archive/Testin...</td>\n      <td>meningioma</td>\n    </tr>\n    <tr>\n      <th>1308</th>\n      <td>/Users/nikitarodionov/Downloads/archive/Testin...</td>\n      <td>meningioma</td>\n    </tr>\n    <tr>\n      <th>1309</th>\n      <td>/Users/nikitarodionov/Downloads/archive/Testin...</td>\n      <td>meningioma</td>\n    </tr>\n    <tr>\n      <th>1310</th>\n      <td>/Users/nikitarodionov/Downloads/archive/Testin...</td>\n      <td>meningioma</td>\n    </tr>\n  </tbody>\n</table>\n<p>1311 rows × 2 columns</p>\n</div>"
     },
     "execution_count": 59,
     "metadata": {},
     "output_type": "execute_result"
    }
   ]
  },
  {
   "cell_type": "markdown",
   "source": [
    "## TensorFlow Image Data Generator and classes dataframes"
   ],
   "metadata": {}
  },
  {
   "cell_type": "code",
   "source": [
    "img_size = (224 ,244)\n",
    "batch_size = 16\n",
    "valid , test = train_test_split(test_df , train_size = 0.5 , shuffle = True , random_state= 42)\n",
    "tr_gen = ImageDataGenerator()\n",
    "ts_gen= ImageDataGenerator()\n",
    "\n",
    "train_gen = tr_gen.flow_from_dataframe(train_df , x_col = 'filepaths' , y_col = 'label' , target_size = img_size ,\n",
    "                                      class_mode = 'categorical' , color_mode = 'rgb' , shuffle = True , batch_size =batch_size)\n",
    "\n",
    "valid_gen = ts_gen.flow_from_dataframe(valid , x_col = 'filepaths' , y_col = 'label' , target_size = img_size , \n",
    "                                       class_mode = 'categorical',color_mode = 'rgb' , shuffle= True, batch_size = batch_size)\n",
    "\n",
    "test_gen = ts_gen.flow_from_dataframe(test , x_col= 'filepaths' , y_col = 'label' , target_size = img_size , \n",
    "                                      class_mode = 'categorical' , color_mode= 'rgb' , shuffle = False , batch_size = batch_size)\n",
    "# Classes dataframes\n",
    "gen_dict = train_gen.class_indices\n",
    "classes = list(gen_dict.keys())\n",
    "images , labels = next(train_gen)"
   ],
   "metadata": {
    "execution": {
     "iopub.status.busy": "2023-09-14T13:07:37.536300Z",
     "iopub.execute_input": "2023-09-14T13:07:37.536739Z",
     "iopub.status.idle": "2023-09-14T13:07:47.302239Z",
     "shell.execute_reply.started": "2023-09-14T13:07:37.536701Z",
     "shell.execute_reply": "2023-09-14T13:07:47.301259Z"
    },
    "trusted": true,
    "ExecuteTime": {
     "end_time": "2024-01-14T19:50:05.286049Z",
     "start_time": "2024-01-14T19:50:05.148521Z"
    }
   },
   "execution_count": 60,
   "outputs": [
    {
     "name": "stdout",
     "output_type": "stream",
     "text": [
      "Found 5712 validated image filenames belonging to 4 classes.\n",
      "Found 655 validated image filenames belonging to 4 classes.\n",
      "Found 656 validated image filenames belonging to 4 classes.\n"
     ]
    }
   ]
  },
  {
   "cell_type": "markdown",
   "source": [
    "## Model Structure"
   ],
   "metadata": {}
  },
  {
   "cell_type": "code",
   "source": [
    "img_shape = (img_size[0] , img_size[1] , 3)\n",
    "num_class = len(classes)\n",
    "\n",
    "base_model = tf.keras.applications.efficientnet.EfficientNetB3(include_top = False , weights = 'imagenet' ,\n",
    "                                                               input_shape = img_shape, pooling= 'max')\n",
    "model = Sequential([\n",
    "    base_model,\n",
    "    BatchNormalization(axis= -1 , momentum= 0.99 , epsilon= 0.001),\n",
    "    Dense(256, kernel_regularizer = regularizers.l2(l= 0.01) , activity_regularizer = regularizers.l1(0.005),\n",
    "         bias_regularizer= regularizers.l1(0.005) , activation = 'relu'),\n",
    "    Dropout(rate= 0.4 , seed = 75),\n",
    "    Dense(num_class , activation = 'softmax')\n",
    "])\n",
    "\n",
    "model.compile(Adamax(learning_rate = 0.001) , loss = 'categorical_crossentropy', metrics = ['accuracy'])\n"
   ],
   "metadata": {
    "execution": {
     "iopub.status.busy": "2023-09-14T13:07:50.533557Z",
     "iopub.execute_input": "2023-09-14T13:07:50.534026Z",
     "iopub.status.idle": "2023-09-14T13:07:57.425037Z",
     "shell.execute_reply.started": "2023-09-14T13:07:50.533988Z",
     "shell.execute_reply": "2023-09-14T13:07:57.424043Z"
    },
    "trusted": true,
    "ExecuteTime": {
     "end_time": "2024-01-14T19:50:45.882515Z",
     "start_time": "2024-01-14T19:50:44.382157Z"
    }
   },
   "execution_count": 63,
   "outputs": [
    {
     "name": "stderr",
     "output_type": "stream",
     "text": [
      "WARNING:absl:At this time, the v2.11+ optimizer `tf.keras.optimizers.Adamax` runs slowly on M1/M2 Macs, please use the legacy Keras optimizer instead, located at `tf.keras.optimizers.legacy.Adamax`.\n"
     ]
    }
   ]
  },
  {
   "cell_type": "markdown",
   "source": [
    "## Model main info"
   ],
   "metadata": {
    "collapsed": false
   }
  },
  {
   "cell_type": "code",
   "execution_count": 64,
   "outputs": [
    {
     "name": "stdout",
     "output_type": "stream",
     "text": [
      "Model: \"sequential_4\"\n",
      "_________________________________________________________________\n",
      " Layer (type)                Output Shape              Param #   \n",
      "=================================================================\n",
      " efficientnetb3 (Functional  (None, 1536)              10783535  \n",
      " )                                                               \n",
      "                                                                 \n",
      " batch_normalization_4 (Bat  (None, 1536)              6144      \n",
      " chNormalization)                                                \n",
      "                                                                 \n",
      " dense_8 (Dense)             (None, 256)               393472    \n",
      "                                                                 \n",
      " dropout_4 (Dropout)         (None, 256)               0         \n",
      "                                                                 \n",
      " dense_9 (Dense)             (None, 4)                 1028      \n",
      "                                                                 \n",
      "=================================================================\n",
      "Total params: 11184179 (42.66 MB)\n",
      "Trainable params: 11093804 (42.32 MB)\n",
      "Non-trainable params: 90375 (353.03 KB)\n",
      "_________________________________________________________________\n"
     ]
    }
   ],
   "source": [
    "model.summary()"
   ],
   "metadata": {
    "collapsed": false,
    "ExecuteTime": {
     "end_time": "2024-01-14T19:51:03.350986Z",
     "start_time": "2024-01-14T19:51:03.317556Z"
    }
   }
  },
  {
   "cell_type": "markdown",
   "source": [
    "## Iterative training"
   ],
   "metadata": {}
  },
  {
   "cell_type": "code",
   "source": [
    "Epochs = 2\n",
    "\n",
    "history = model.fit(x= train_gen , epochs = Epochs , verbose = 1 , validation_data = valid_gen ,\n",
    "                   validation_steps = None , shuffle = False)"
   ],
   "metadata": {
    "execution": {
     "iopub.status.busy": "2023-09-14T13:07:57.426816Z",
     "iopub.execute_input": "2023-09-14T13:07:57.427564Z",
     "iopub.status.idle": "2023-09-14T13:24:53.194764Z",
     "shell.execute_reply.started": "2023-09-14T13:07:57.427511Z",
     "shell.execute_reply": "2023-09-14T13:24:53.193489Z"
    },
    "trusted": true,
    "ExecuteTime": {
     "end_time": "2024-01-14T20:20:13.070396Z",
     "start_time": "2024-01-14T19:51:24.590561Z"
    }
   },
   "execution_count": 65,
   "outputs": [
    {
     "name": "stdout",
     "output_type": "stream",
     "text": [
      "Epoch 1/2\n",
      "357/357 [==============================] - 872s 2s/step - loss: 4.3635 - accuracy: 0.8676 - val_loss: 3.2808 - val_accuracy: 0.9420\n",
      "Epoch 2/2\n",
      "357/357 [==============================] - 856s 2s/step - loss: 2.6065 - accuracy: 0.9555 - val_loss: 2.0402 - val_accuracy: 0.9832\n"
     ]
    }
   ]
  },
  {
   "cell_type": "code",
   "execution_count": 54,
   "outputs": [
    {
     "name": "stdout",
     "output_type": "stream",
     "text": [
      "1/1 [==============================] - 0s 66ms/step\n",
      "The predicted class is: notumor\n"
     ]
    }
   ],
   "source": [
    "# Load the single image\n",
    "image = tf.keras.utils.load_img('/Users/nikitarodionov/Downloads/archive/Testing/notumor/Te-no_0404.jpg', target_size=(img_size[0], img_size[1]))\n",
    "image = tf.keras.utils.img_to_array(image)\n",
    "image = tf.expand_dims(image, axis=0)\n",
    "image = tf.keras.applications.efficientnet.preprocess_input(image)\n",
    "predictions = model.predict(image)\n",
    "predicted_class = tf.math.argmax(predictions, axis=1)\n",
    "class_dict_local = {0 : 'glioma', 1 : 'meningioma', 2: 'notumor', 3 : 'pituitary'}\n",
    "predicted_class_literal = class_dict_local[predicted_class.numpy()[0]]\n",
    "print('The predicted class is:', predicted_class_literal)"
   ],
   "metadata": {
    "collapsed": false,
    "ExecuteTime": {
     "end_time": "2024-01-14T15:39:23.526583Z",
     "start_time": "2024-01-14T15:39:23.433714Z"
    }
   }
  },
  {
   "cell_type": "markdown",
   "source": [
    "## Common Metrics"
   ],
   "metadata": {}
  },
  {
   "cell_type": "code",
   "source": [
    "train_score = model.evaluate(train_gen , steps =16 , verbose = 1)\n",
    "valid_score = model.evaluate(valid_gen , steps = 16 , verbose = 1)\n",
    "test_score = model.evaluate(test_gen , steps = 16 , verbose = 1)\n",
    "\n",
    "print(\"Train Loss: \", train_score[0])\n",
    "print(\"Train Accuracy: \", train_score[1])\n",
    "print(\"Validation Loss: \", valid_score[0])\n",
    "print(\"Validation Accuracy: \", valid_score[1])\n",
    "print(\"Test Loss: \", test_score[0])\n",
    "print(\"Test Accuracy: \", test_score[1])"
   ],
   "metadata": {
    "execution": {
     "iopub.status.busy": "2023-09-14T13:24:54.004929Z",
     "iopub.execute_input": "2023-09-14T13:24:54.005977Z",
     "iopub.status.idle": "2023-09-14T13:24:57.482582Z",
     "shell.execute_reply.started": "2023-09-14T13:24:54.005940Z",
     "shell.execute_reply": "2023-09-14T13:24:57.481594Z"
    },
    "trusted": true,
    "ExecuteTime": {
     "end_time": "2024-01-14T20:22:02.780709Z",
     "start_time": "2024-01-14T20:21:47.110027Z"
    }
   },
   "execution_count": 66,
   "outputs": [
    {
     "name": "stdout",
     "output_type": "stream",
     "text": [
      "16/16 [==============================] - 5s 313ms/step - loss: 2.0150 - accuracy: 1.0000\n",
      "16/16 [==============================] - 5s 313ms/step - loss: 2.0299 - accuracy: 0.9883\n",
      "16/16 [==============================] - 5s 325ms/step - loss: 2.0539 - accuracy: 0.9805\n",
      "Train Loss:  2.0149800777435303\n",
      "Train Accuracy:  1.0\n",
      "Validation Loss:  2.0298569202423096\n",
      "Validation Accuracy:  0.98828125\n",
      "Test Loss:  2.0538558959960938\n",
      "Test Accuracy:  0.98046875\n"
     ]
    }
   ]
  },
  {
   "cell_type": "markdown",
   "source": [
    "## Metrics of classes"
   ],
   "metadata": {}
  },
  {
   "cell_type": "code",
   "source": [
    "preds = model.predict_generator(test_gen)\n",
    "y_pred = np.argmax(preds , axis = 1)\n",
    "print(classification_report(test_gen.classes, y_pred , target_names= classes ))"
   ],
   "metadata": {
    "execution": {
     "iopub.status.busy": "2023-09-14T13:24:57.484116Z",
     "iopub.execute_input": "2023-09-14T13:24:57.484783Z",
     "iopub.status.idle": "2023-09-14T13:25:02.531069Z",
     "shell.execute_reply.started": "2023-09-14T13:24:57.484747Z",
     "shell.execute_reply": "2023-09-14T13:25:02.529989Z"
    },
    "trusted": true,
    "ExecuteTime": {
     "end_time": "2024-01-14T20:23:52.992262Z",
     "start_time": "2024-01-14T20:23:39.869816Z"
    }
   },
   "execution_count": 69,
   "outputs": [
    {
     "name": "stdout",
     "output_type": "stream",
     "text": [
      "              precision    recall  f1-score   support\n",
      "\n",
      "      glioma       0.98      0.95      0.96       144\n",
      "  meningioma       0.96      0.98      0.97       153\n",
      "     notumor       1.00      1.00      1.00       208\n",
      "   pituitary       0.99      0.99      0.99       151\n",
      "\n",
      "    accuracy                           0.98       656\n",
      "   macro avg       0.98      0.98      0.98       656\n",
      "weighted avg       0.98      0.98      0.98       656\n"
     ]
    }
   ]
  }
 ]
}
