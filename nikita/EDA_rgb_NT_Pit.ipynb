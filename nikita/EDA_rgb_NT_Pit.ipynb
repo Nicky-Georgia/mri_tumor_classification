{
 "cells": [
  {
   "cell_type": "code",
   "execution_count": null,
   "metadata": {},
   "outputs": [],
   "source": [
    "import cv2\n",
    "import numpy as np\n",
    "import os\n",
    "from tqdm import tqdm"
   ]
  },
  {
   "cell_type": "code",
   "execution_count": null,
   "metadata": {},
   "outputs": [],
   "source": [
    "def calculate_mean_variance(images_folder):\n",
    "    # Get a list of image file names in the specified folder\n",
    "    image_files = [f for f in os.listdir(images_folder) if os.path.isfile(os.path.join(images_folder, f))]\n",
    "\n",
    "    # Initialize dictionaries to store mean and variance values for each color channel\n",
    "    mean_values = {'R': [], 'G': [], 'B': []}\n",
    "    variance_values = {'R': [], 'G': [], 'B': []}\n",
    "\n",
    "    for img_file in image_files:\n",
    "        # Read each image\n",
    "        img = cv2.imread(os.path.join(images_folder, img_file))\n",
    "\n",
    "        # Split image into color channels (BGR format)\n",
    "        b, g, r = cv2.split(img)\n",
    "\n",
    "        # Calculate mean and variance for each color channel\n",
    "        for channel, channel_name in zip((r, g, b), ('R', 'G', 'B')):\n",
    "            mean = np.mean(channel)\n",
    "            variance = np.var(channel)\n",
    "            \n",
    "            # Append mean and variance to respective lists\n",
    "            mean_values[channel_name].append(mean)\n",
    "            variance_values[channel_name].append(variance)\n",
    "\n",
    "    # Calculate overall mean and variance across all images for each channel\n",
    "    overall_mean = {channel: np.mean(values) for channel, values in mean_values.items()}\n",
    "    overall_variance = {channel: np.mean(values) for channel, values in variance_values.items()}\n",
    "\n",
    "    return overall_mean, overall_variance"
   ]
  },
  {
   "cell_type": "code",
   "execution_count": null,
   "metadata": {},
   "outputs": [],
   "source": [
    "means, variances = calculate_mean_variance('../data/Training/pituitary')\n",
    "print(\"Mean values for each channel (R, G, B):\", means)\n",
    "print(\"Variance values for each channel (R, G, B):\", variances)"
   ]
  },
  {
   "cell_type": "code",
   "execution_count": null,
   "metadata": {},
   "outputs": [],
   "source": [
    "means, variances = calculate_mean_variance('../data/Training/notumor')\n",
    "print(\"Mean values for each channel (R, G, B):\", means)\n",
    "print(\"Variance values for each channel (R, G, B):\", variances)"
   ]
  }
 ],
 "metadata": {
  "language_info": {
   "name": "python"
  }
 },
 "nbformat": 4,
 "nbformat_minor": 2
}
