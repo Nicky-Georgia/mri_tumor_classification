{
 "cells": [
  {
   "cell_type": "markdown",
   "metadata": {},
   "source": [
    "Import modules"
   ]
  },
  {
   "cell_type": "code",
   "execution_count": 39,
   "metadata": {},
   "outputs": [],
   "source": [
    "import cv2\n",
    "import numpy as np\n",
    "import os\n",
    "from tqdm import tqdm"
   ]
  },
  {
   "cell_type": "markdown",
   "metadata": {},
   "source": [
    "The `calculate_mean_variance` function analyzes a collection of images in a specified folder to compute the mean and variance for each color channel (Red, Green, and Blue - RGB) across all images."
   ]
  },
  {
   "cell_type": "code",
   "execution_count": 40,
   "metadata": {},
   "outputs": [],
   "source": [
    "def calculate_mean_variance(images_folder):\n",
    "    # Get a list of image file names in the specified folder\n",
    "    image_files = [f for f in os.listdir(images_folder) if os.path.isfile(os.path.join(images_folder, f))]\n",
    "\n",
    "    # Initialize dictionaries to store mean and variance values for each color channel\n",
    "    mean_values = {'R': [], 'G': [], 'B': []}\n",
    "    variance_values = {'R': [], 'G': [], 'B': []}\n",
    "\n",
    "    for img_file in image_files:\n",
    "        # Read each image\n",
    "        img = cv2.imread(os.path.join(images_folder, img_file))\n",
    "\n",
    "        # Split image into color channels (BGR format)\n",
    "        b, g, r = cv2.split(img)\n",
    "\n",
    "        # Calculate mean and variance for each color channel\n",
    "        for channel, channel_name in zip((r, g, b), ('R', 'G', 'B')):\n",
    "            mean = np.mean(channel)\n",
    "            variance = np.var(channel)\n",
    "            \n",
    "            # Append mean and variance to respective lists\n",
    "            mean_values[channel_name].append(mean)\n",
    "            variance_values[channel_name].append(variance)\n",
    "\n",
    "    # Calculate overall mean and variance across all images for each channel\n",
    "    overall_mean = {channel: np.mean(values) for channel, values in mean_values.items()}\n",
    "    overall_variance = {channel: np.mean(values) for channel, values in variance_values.items()}\n",
    "\n",
    "    return overall_mean, overall_variance"
   ]
  },
  {
   "cell_type": "markdown",
   "metadata": {},
   "source": [
    "Glioma mean and variance"
   ]
  },
  {
   "cell_type": "code",
   "execution_count": 41,
   "metadata": {},
   "outputs": [
    {
     "name": "stdout",
     "output_type": "stream",
     "text": [
      "Mean values for each channel (R, G, B): {'R': 32.71142956995766, 'G': 32.71142956995766, 'B': 32.71142956995766}\n",
      "Variance values for each channel (R, G, B): {'R': 1502.451385575819, 'G': 1502.451385575819, 'B': 1502.451385575819}\n"
     ]
    }
   ],
   "source": [
    "means, variances = calculate_mean_variance('../data/Training/glioma')\n",
    "print(\"Mean values for each channel (R, G, B):\", means)\n",
    "print(\"Variance values for each channel (R, G, B):\", variances)"
   ]
  },
  {
   "cell_type": "markdown",
   "metadata": {},
   "source": [
    "Meningioma mean and variance"
   ]
  },
  {
   "cell_type": "code",
   "execution_count": 42,
   "metadata": {},
   "outputs": [
    {
     "name": "stdout",
     "output_type": "stream",
     "text": [
      "Mean values for each channel (R, G, B): {'R': 43.482108182601415, 'G': 43.482108182601415, 'B': 43.482108182601415}\n",
      "Variance values for each channel (R, G, B): {'R': 2246.2396245212185, 'G': 2246.2396245212185, 'B': 2246.2396245212185}\n"
     ]
    }
   ],
   "source": [
    "means, variances = calculate_mean_variance('../data/Training/meningioma')\n",
    "print(\"Mean values for each channel (R, G, B):\", means)\n",
    "print(\"Variance values for each channel (R, G, B):\", variances)"
   ]
  }
 ],
 "metadata": {
  "kernelspec": {
   "display_name": ".venv",
   "language": "python",
   "name": "python3"
  },
  "language_info": {
   "codemirror_mode": {
    "name": "ipython",
    "version": 3
   },
   "file_extension": ".py",
   "mimetype": "text/x-python",
   "name": "python",
   "nbconvert_exporter": "python",
   "pygments_lexer": "ipython3",
   "version": "3.10.12"
  }
 },
 "nbformat": 4,
 "nbformat_minor": 2
}
