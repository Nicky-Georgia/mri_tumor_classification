{
  "cells": [
    {
      "cell_type": "markdown",
      "metadata": {
        "id": "SzG9gPwGkF_n"
      },
      "source": [
        "## Import Toolkit"
      ]
    },
    {
      "cell_type": "code",
      "execution_count": null,
      "metadata": {
        "execution": {
          "iopub.execute_input": "2023-09-14T13:07:33.357043Z",
          "iopub.status.busy": "2023-09-14T13:07:33.356389Z",
          "iopub.status.idle": "2023-09-14T13:07:37.428979Z",
          "shell.execute_reply": "2023-09-14T13:07:37.427873Z",
          "shell.execute_reply.started": "2023-09-14T13:07:33.356995Z"
        },
        "id": "VUgt_lT7kF_q",
        "trusted": true
      },
      "outputs": [],
      "source": [
        "# OS libs\n",
        "import os\n",
        "\n",
        "# Data handling tools\n",
        "import cv2\n",
        "import matplotlib.pyplot as plt\n",
        "import numpy as np\n",
        "import pandas as pd\n",
        "from sklearn.model_selection import train_test_split\n",
        "from sklearn.metrics import (accuracy_score,\n",
        "                             classification_report, confusion_matrix)\n",
        "from sklearn.linear_model import LogisticRegression\n",
        "from sklearn.svm import LinearSVC\n",
        "from sklearn.preprocessing import StandardScaler\n",
        "from sklearn.pipeline import make_pipeline\n",
        "\n",
        "# Deep learning libs\n",
        "import tensorflow as tf\n",
        "from tensorflow import keras\n",
        "from tensorflow.keras.preprocessing.image import ImageDataGenerator\n",
        "\n",
        "# Other\n",
        "from tqdm import tqdm\n",
        "\n",
        "# Warnings\n",
        "import warnings\n",
        "warnings.filterwarnings('ignore')"
      ]
    },
    {
      "cell_type": "markdown",
      "metadata": {
        "id": "FSmU_FhmwMy-"
      },
      "source": [
        "## Load data"
      ]
    },
    {
      "cell_type": "code",
      "execution_count": null,
      "metadata": {
        "colab": {
          "base_uri": "https://localhost:8080/"
        },
        "id": "0OP1txhtwInc",
        "outputId": "c00b18b1-f7f6-4214-db05-f4110ae83abe"
      },
      "outputs": [],
      "source": [
        "!pwd"
      ]
    },
    {
      "cell_type": "code",
      "execution_count": null,
      "metadata": {
        "execution": {
          "iopub.execute_input": "2023-09-14T13:07:37.432206Z",
          "iopub.status.busy": "2023-09-14T13:07:37.431434Z",
          "iopub.status.idle": "2023-09-14T13:07:37.468775Z",
          "shell.execute_reply": "2023-09-14T13:07:37.467851Z",
          "shell.execute_reply.started": "2023-09-14T13:07:37.432171Z"
        },
        "id": "y7sXsuUwkF_u",
        "trusted": true
      },
      "outputs": [],
      "source": [
        "# Train\n",
        "\n",
        "train_data_path = '../data/Training/'\n",
        "\n",
        "filepaths = []\n",
        "labels = []\n",
        "\n",
        "folds = os.listdir(train_data_path)\n",
        "\n",
        "for fold in folds:\n",
        "    f_path = os.path.join(train_data_path, fold)\n",
        "    filelists = os.listdir(f_path)\n",
        "\n",
        "    for file in filelists:\n",
        "        filepaths.append(os.path.join(f_path, file))\n",
        "        labels.append(fold)\n",
        "\n",
        "# Concat data paths with labels\n",
        "Fseries = pd.Series(filepaths, name='filepaths')\n",
        "Lseries = pd.Series(labels, name='label')\n",
        "train_df = pd.concat([Fseries, Lseries], axis=1)\n",
        "\n",
        "\n",
        "# Test\n",
        "\n",
        "test_data_path = '../data/Testing/'\n",
        "\n",
        "filepaths = []\n",
        "labels = []\n",
        "\n",
        "folds = os.listdir(test_data_path)\n",
        "\n",
        "for fold in folds:\n",
        "    f_path = os.path.join(test_data_path, fold)\n",
        "    filelists = os.listdir(f_path)\n",
        "\n",
        "    for file in filelists:\n",
        "        filepaths.append(os.path.join(f_path, file))\n",
        "        labels.append(fold)\n",
        "\n",
        "# Concat data paths with labels\n",
        "Fseries = pd.Series(filepaths, name='filepaths')\n",
        "Lseries = pd.Series(labels, name='label')\n",
        "test_df = pd.concat([Fseries, Lseries], axis=1)"
      ]
    },
    {
      "cell_type": "markdown",
      "metadata": {
        "id": "54UanwwFkF_v"
      },
      "source": [
        "## Split Data into Valid and Test"
      ]
    },
    {
      "cell_type": "code",
      "execution_count": null,
      "metadata": {
        "execution": {
          "iopub.execute_input": "2023-09-14T13:07:37.527092Z",
          "iopub.status.busy": "2023-09-14T13:07:37.526673Z",
          "iopub.status.idle": "2023-09-14T13:07:37.534441Z",
          "shell.execute_reply": "2023-09-14T13:07:37.533109Z",
          "shell.execute_reply.started": "2023-09-14T13:07:37.527059Z"
        },
        "id": "NDVd0B-GkF_v",
        "trusted": true
      },
      "outputs": [],
      "source": [
        "valid, test = train_test_split(test_df, train_size=0.5,\n",
        "                               shuffle=True, random_state=42)"
      ]
    },
    {
      "cell_type": "markdown",
      "metadata": {
        "id": "c6LJjZ5lkF_w"
      },
      "source": [
        "## Image Data Generator"
      ]
    },
    {
      "cell_type": "code",
      "execution_count": null,
      "metadata": {
        "colab": {
          "base_uri": "https://localhost:8080/"
        },
        "execution": {
          "iopub.execute_input": "2023-09-14T13:07:37.536739Z",
          "iopub.status.busy": "2023-09-14T13:07:37.536300Z",
          "iopub.status.idle": "2023-09-14T13:07:47.302239Z",
          "shell.execute_reply": "2023-09-14T13:07:47.301259Z",
          "shell.execute_reply.started": "2023-09-14T13:07:37.536701Z"
        },
        "id": "cJYT-G07kF_w",
        "outputId": "4d3e7f42-de66-414c-c317-4d759fbb0199",
        "trusted": true
      },
      "outputs": [],
      "source": [
        "img_size = (224, 224)\n",
        "batch_size = 32\n",
        "tr_gen = ImageDataGenerator()\n",
        "ts_gen = ImageDataGenerator()\n",
        "\n",
        "train_gen = tr_gen.flow_from_dataframe(train_df, x_col='filepaths',\n",
        "                                       y_col='label',\n",
        "                                       target_size=img_size,\n",
        "                                       class_mode='categorical',\n",
        "                                       color_mode='grayscale',\n",
        "                                       shuffle=True, batch_size=batch_size)\n",
        "\n",
        "valid_gen = ts_gen.flow_from_dataframe(valid, x_col='filepaths', y_col='label',\n",
        "                                       target_size=img_size,\n",
        "                                       class_mode='categorical',\n",
        "                                       color_mode='grayscale', shuffle=True,\n",
        "                                       batch_size=batch_size)\n",
        "\n",
        "test_gen = ts_gen.flow_from_dataframe(test, x_col='filepaths', y_col='label',\n",
        "                                      target_size=img_size,\n",
        "                                      class_mode='categorical',\n",
        "                                      color_mode='grayscale', shuffle=False,\n",
        "                                      batch_size=batch_size)"
      ]
    },
    {
      "cell_type": "markdown",
      "metadata": {
        "id": "Ys-pgj-ukF_x"
      },
      "source": [
        "## Show sample from train data"
      ]
    },
    {
      "cell_type": "code",
      "execution_count": null,
      "metadata": {
        "colab": {
          "base_uri": "https://localhost:8080/",
          "height": 1000
        },
        "execution": {
          "iopub.execute_input": "2023-09-14T13:07:47.304055Z",
          "iopub.status.busy": "2023-09-14T13:07:47.303703Z",
          "iopub.status.idle": "2023-09-14T13:07:50.532188Z",
          "shell.execute_reply": "2023-09-14T13:07:50.530977Z",
          "shell.execute_reply.started": "2023-09-14T13:07:47.304012Z"
        },
        "id": "gTZlIwCPkF_x",
        "outputId": "a5eb3f5d-6774-4667-e876-901a4c450c6c",
        "trusted": true
      },
      "outputs": [],
      "source": [
        "gen_dict = train_gen.class_indices\n",
        "classes = list(gen_dict.keys())\n",
        "images, labels = next(train_gen)\n",
        "\n",
        "plt.figure(figsize=(20, 20))\n",
        "\n",
        "for i in range(16):\n",
        "    plt.subplot(4, 4, i+1)\n",
        "    image = images[i] / 255\n",
        "    plt.imshow(image)\n",
        "    index = np.argmax(labels[i])\n",
        "    class_name = classes[index]\n",
        "    plt.title(class_name, color='blue', fontsize=12)\n",
        "    plt.axis('off')\n",
        "plt.show()"
      ]
    },
    {
      "cell_type": "markdown",
      "metadata": {
        "id": "ZEB_zjC2oXpI"
      },
      "source": [
        "## Flatten images"
      ]
    },
    {
      "cell_type": "code",
      "execution_count": null,
      "metadata": {},
      "outputs": [],
      "source": [
        "# Training data\n",
        "X_train, y_train = [], []\n",
        "for i in tqdm(range(len(train_gen))):\n",
        "    images, labels = train_gen[i]\n",
        "    X_train.append(images.reshape(images.shape[0], -1))\n",
        "    y_train.append(np.argmax(labels, axis=1))\n",
        "\n",
        "X_train = np.concatenate(X_train)\n",
        "y_train = np.concatenate(y_train)\n",
        "\n",
        "# Validation data\n",
        "X_valid, y_valid = [], []\n",
        "for i in tqdm(range(len(valid_gen))):\n",
        "    images, labels = valid_gen[i]\n",
        "    X_valid.append(images.reshape(images.shape[0], -1))\n",
        "    y_valid.append(np.argmax(labels, axis=1))\n",
        "\n",
        "X_valid = np.concatenate(X_valid)\n",
        "y_valid = np.concatenate(y_valid)\n",
        "\n",
        "# Test data\n",
        "X_test, y_test = [], []\n",
        "for i in tqdm(range(len(test_gen))):\n",
        "    images, labels = test_gen[i]\n",
        "    X_test.append(images.reshape(images.shape[0], -1))\n",
        "    y_test.append(np.argmax(labels, axis=1))\n",
        "\n",
        "X_test = np.concatenate(X_test)\n",
        "y_test = np.concatenate(y_test)"
      ]
    },
    {
      "cell_type": "code",
      "execution_count": null,
      "metadata": {
        "colab": {
          "base_uri": "https://localhost:8080/"
        },
        "id": "DGxsV6xs410p",
        "outputId": "e01ac775-0f84-48c0-b4b3-918a5bb5a868"
      },
      "outputs": [],
      "source": [
        "# check\n",
        "print(X_train.shape, y_train.shape)\n",
        "print(X_valid.shape, y_valid.shape)\n",
        "print(X_test.shape, y_test.shape)"
      ]
    },
    {
      "cell_type": "markdown",
      "metadata": {},
      "source": [
        "## PCA"
      ]
    },
    {
      "cell_type": "code",
      "execution_count": null,
      "metadata": {},
      "outputs": [],
      "source": [
        "from sklearn.decomposition import PCA\n",
        "\n",
        "n_components = 2250\n",
        "\n",
        "pca = make_pipeline(StandardScaler(), PCA(n_components=n_components,\n",
        "                                          random_state=42))\n",
        "X_train_pca = pca.fit_transform(X_train)\n",
        "\n",
        "\n",
        "X_valid_pca = pca.transform(X_valid)\n",
        "X_test_pca = pca.transform(X_test)\n",
        "\n",
        "print(\"Original shape:\", X_train.shape, X_valid.shape, X_test.shape)\n",
        "print(\"Reduced shape:\", X_train_pca.shape, X_valid_pca.shape, X_test_pca.shape)"
      ]
    },
    {
      "cell_type": "markdown",
      "metadata": {
        "id": "ykUDC8R_kF_y"
      },
      "source": [
        "## Model Structure (SVM)"
      ]
    },
    {
      "cell_type": "code",
      "execution_count": null,
      "metadata": {
        "id": "HFFdqZFU5aRT"
      },
      "outputs": [],
      "source": [
        "model_SVC = LinearSVC(max_iter=1000, random_state=42)\n",
        "model_SVC.fit(X_train_pca, y_train)"
      ]
    },
    {
      "cell_type": "code",
      "execution_count": null,
      "metadata": {
        "id": "VAN5ySspkF_0"
      },
      "outputs": [],
      "source": [
        "# validation\n",
        "y_valid_pred = model_SVC.predict(X_valid_pca)\n",
        "accuracy_valid = accuracy_score(y_valid, y_valid_pred)\n",
        "\n",
        "print(f'Validation Accuracy: {accuracy_valid:.4f}')\n",
        "print('Classification Report:')\n",
        "print(classification_report(y_valid, y_valid_pred))\n",
        "print('Confusion Matrix:')\n",
        "print(confusion_matrix(y_valid, y_valid_pred))"
      ]
    },
    {
      "cell_type": "code",
      "execution_count": null,
      "metadata": {
        "id": "qzMfqPi85Woa"
      },
      "outputs": [],
      "source": [
        "# test\n",
        "y_test_pred = model_SVC.predict(X_test_pca)\n",
        "accuracy_test = accuracy_score(y_test, y_test_pred)\n",
        "\n",
        "print(f'Test Accuracy: {accuracy_test:.4f}')\n",
        "print('Classification Report:')\n",
        "print(classification_report(y_test, y_test_pred))\n",
        "print('Confusion Matrix:')\n",
        "print(confusion_matrix(y_test, y_test_pred))"
      ]
    },
    {
      "cell_type": "markdown",
      "metadata": {},
      "source": [
        "## Model Structure (OVR)"
      ]
    },
    {
      "cell_type": "code",
      "execution_count": null,
      "metadata": {},
      "outputs": [],
      "source": [
        "model_OVR = LogisticRegression(max_iter=1000, random_state=42,\n",
        "                               multi_class='ovr')\n",
        "model_OVR.fit(X_train_pca, y_train)"
      ]
    },
    {
      "cell_type": "code",
      "execution_count": null,
      "metadata": {},
      "outputs": [],
      "source": [
        "# validation\n",
        "y_valid_pred = model_OVR.predict(X_valid_pca)\n",
        "accuracy_valid = accuracy_score(y_valid, y_valid_pred)\n",
        "\n",
        "print(f'Validation Accuracy: {accuracy_valid:.4f}')\n",
        "print('Classification Report:')\n",
        "print(classification_report(y_valid, y_valid_pred))\n",
        "print('Confusion Matrix:')\n",
        "print(confusion_matrix(y_valid, y_valid_pred))"
      ]
    },
    {
      "cell_type": "code",
      "execution_count": null,
      "metadata": {},
      "outputs": [],
      "source": [
        "# test\n",
        "y_test_pred = model_OVR.predict(X_test_pca)\n",
        "accuracy_test = accuracy_score(y_test, y_test_pred)\n",
        "\n",
        "print(f'Test Accuracy: {accuracy_test:.4f}')\n",
        "print('Classification Report:')\n",
        "print(classification_report(y_test, y_test_pred))\n",
        "print('Confusion Matrix:')\n",
        "print(confusion_matrix(y_test, y_test_pred))"
      ]
    }
  ],
  "metadata": {
    "colab": {
      "provenance": []
    },
    "kernelspec": {
      "display_name": "Python 3",
      "language": "python",
      "name": "python3"
    },
    "language_info": {
      "codemirror_mode": {
        "name": "ipython",
        "version": 3
      },
      "file_extension": ".py",
      "mimetype": "text/x-python",
      "name": "python",
      "nbconvert_exporter": "python",
      "pygments_lexer": "ipython3",
      "version": "3.9.13"
    }
  },
  "nbformat": 4,
  "nbformat_minor": 0
}
